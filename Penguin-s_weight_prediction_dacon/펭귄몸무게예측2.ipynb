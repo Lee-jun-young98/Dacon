{
  "nbformat": 4,
  "nbformat_minor": 0,
  "metadata": {
    "colab": {
      "name": "펭귄몸무게예측2.ipynb",
      "provenance": [],
      "authorship_tag": "ABX9TyP4zBtZmKv4xsp3EgrUd+N/",
      "include_colab_link": true
    },
    "kernelspec": {
      "name": "python3",
      "display_name": "Python 3"
    },
    "language_info": {
      "name": "python"
    }
  },
  "cells": [
    {
      "cell_type": "markdown",
      "metadata": {
        "id": "view-in-github",
        "colab_type": "text"
      },
      "source": [
        "<a href=\"https://colab.research.google.com/github/Lee-jun-young98/Penguin-s_weight_prediction_dacon/blob/main/%ED%8E%AD%EA%B7%84%EB%AA%B8%EB%AC%B4%EA%B2%8C%EC%98%88%EC%B8%A12.ipynb\" target=\"_parent\"><img src=\"https://colab.research.google.com/assets/colab-badge.svg\" alt=\"Open In Colab\"/></a>"
      ]
    },
    {
      "cell_type": "markdown",
      "source": [
        "코드 따라 치기\n",
        "https://dacon.io/competitions/official/235862/codeshare/4068?page=1&dtype=recent"
      ],
      "metadata": {
        "id": "xYmz5V2kZ_px"
      }
    },
    {
      "cell_type": "code",
      "source": [
        "from google.colab import drive\n",
        "drive.mount('/content/gdrive/')\n",
        "\n",
        "import os \n",
        "os.chdir(\"/content/gdrive/MyDrive/Dacon/penguin's_weight_prediction/\")\n",
        "os.getcwd()"
      ],
      "metadata": {
        "colab": {
          "base_uri": "https://localhost:8080/",
          "height": 54
        },
        "id": "SidTQLQZYQmJ",
        "outputId": "78b01952-2fa6-4960-88ca-03e7067b99b4"
      },
      "execution_count": null,
      "outputs": [
        {
          "output_type": "stream",
          "name": "stdout",
          "text": [
            "Mounted at /content/gdrive/\n"
          ]
        },
        {
          "output_type": "execute_result",
          "data": {
            "application/vnd.google.colaboratory.intrinsic+json": {
              "type": "string"
            },
            "text/plain": [
              "\"/content/gdrive/MyDrive/Dacon/penguin's_weight_prediction\""
            ]
          },
          "metadata": {},
          "execution_count": 4
        }
      ]
    },
    {
      "cell_type": "code",
      "execution_count": null,
      "metadata": {
        "colab": {
          "base_uri": "https://localhost:8080/"
        },
        "id": "yHZ7ZxPZYN0M",
        "outputId": "26620e77-7cec-4944-9577-3a3917f6f200"
      },
      "outputs": [
        {
          "output_type": "stream",
          "name": "stdout",
          "text": [
            "Collecting catboost\n",
            "  Downloading catboost-1.0.3-cp37-none-manylinux1_x86_64.whl (76.3 MB)\n",
            "\u001b[K     |████████████████████████████████| 76.3 MB 1.1 MB/s \n",
            "\u001b[?25hRequirement already satisfied: six in /usr/local/lib/python3.7/dist-packages (from catboost) (1.15.0)\n",
            "Requirement already satisfied: plotly in /usr/local/lib/python3.7/dist-packages (from catboost) (4.4.1)\n",
            "Requirement already satisfied: matplotlib in /usr/local/lib/python3.7/dist-packages (from catboost) (3.2.2)\n",
            "Requirement already satisfied: numpy>=1.16.0 in /usr/local/lib/python3.7/dist-packages (from catboost) (1.19.5)\n",
            "Requirement already satisfied: pandas>=0.24.0 in /usr/local/lib/python3.7/dist-packages (from catboost) (1.1.5)\n",
            "Requirement already satisfied: graphviz in /usr/local/lib/python3.7/dist-packages (from catboost) (0.10.1)\n",
            "Requirement already satisfied: scipy in /usr/local/lib/python3.7/dist-packages (from catboost) (1.4.1)\n",
            "Requirement already satisfied: pytz>=2017.2 in /usr/local/lib/python3.7/dist-packages (from pandas>=0.24.0->catboost) (2018.9)\n",
            "Requirement already satisfied: python-dateutil>=2.7.3 in /usr/local/lib/python3.7/dist-packages (from pandas>=0.24.0->catboost) (2.8.2)\n",
            "Requirement already satisfied: pyparsing!=2.0.4,!=2.1.2,!=2.1.6,>=2.0.1 in /usr/local/lib/python3.7/dist-packages (from matplotlib->catboost) (3.0.6)\n",
            "Requirement already satisfied: kiwisolver>=1.0.1 in /usr/local/lib/python3.7/dist-packages (from matplotlib->catboost) (1.3.2)\n",
            "Requirement already satisfied: cycler>=0.10 in /usr/local/lib/python3.7/dist-packages (from matplotlib->catboost) (0.11.0)\n",
            "Requirement already satisfied: retrying>=1.3.3 in /usr/local/lib/python3.7/dist-packages (from plotly->catboost) (1.3.3)\n",
            "Installing collected packages: catboost\n",
            "Successfully installed catboost-1.0.3\n"
          ]
        }
      ],
      "source": [
        "! pip install catboost\n",
        "\n",
        "import numpy as np\n",
        "import pandas as pd\n",
        "import matplotlib.pyplot as plt\n",
        "from pandas import set_option\n",
        "from pandas.plotting import scatter_matrix\n",
        "from sklearn.model_selection import train_test_split\n",
        "from sklearn.model_selection import KFold\n",
        "from sklearn.model_selection import cross_val_score\n",
        "from sklearn.model_selection import GridSearchCV\n",
        "from sklearn.linear_model import LinearRegression\n",
        "from sklearn.linear_model import LogisticRegression\n",
        "from sklearn.linear_model import Lasso\n",
        "from sklearn.linear_model import Ridge\n",
        "from sklearn.linear_model import ElasticNet\n",
        "from sklearn.tree import DecisionTreeRegressor\n",
        "from sklearn.neighbors import KNeighborsRegressor\n",
        "from sklearn.svm import SVR\n",
        "from sklearn.pipeline import Pipeline\n",
        "from sklearn.ensemble import RandomForestRegressor, RandomForestClassifier\n",
        "from sklearn.ensemble import GradientBoostingRegressor\n",
        "from sklearn.ensemble import ExtraTreesRegressor\n",
        "from sklearn.ensemble import AdaBoostRegressor, AdaBoostClassifier\n",
        "from sklearn.metrics import mean_squared_error\n",
        "from xgboost import XGBRegressor, XGBClassifier\n",
        "from lightgbm import LGBMRegressor, LGBMClassifier\n",
        "from catboost import CatBoostRegressor, CatBoostClassifier\n",
        "from sklearn.tree import DecisionTreeClassifier\n",
        "from sklearn.neighbors import KNeighborsClassifier\n",
        "from sklearn.discriminant_analysis import LinearDiscriminantAnalysis\n",
        "from sklearn.naive_bayes import GaussianNB\n",
        "from sklearn.svm import SVC\n",
        "from sklearn import preprocessing\n",
        "import seaborn as sns"
      ]
    },
    {
      "cell_type": "code",
      "source": [
        "# id column은 필요없으니 제거\n",
        "train_dataset = pd.read_csv('train.csv').drop(['id'],axis=1)\n",
        "test_dataset = pd.read_csv('test.csv').drop(['id'],axis=1)"
      ],
      "metadata": {
        "id": "EmZEwHccYWBA"
      },
      "execution_count": null,
      "outputs": []
    },
    {
      "cell_type": "code",
      "source": [
        "for col in train_dataset.columns:\n",
        "    n_nan = train_dataset[col].isnull().sum()\n",
        "    if n_nan>0:\n",
        "      msg = '{:^20}에서 결측치 개수 : {}개'.format(col,n_nan)\n",
        "      print(msg)"
      ],
      "metadata": {
        "colab": {
          "base_uri": "https://localhost:8080/"
        },
        "id": "FLz83IMMYWqZ",
        "outputId": "c777e79b-55b6-4092-ac3e-30a353669c4f"
      },
      "execution_count": null,
      "outputs": [
        {
          "output_type": "stream",
          "name": "stdout",
          "text": [
            "        Sex         에서 결측치 개수 : 3개\n",
            " Delta 15 N (o/oo)  에서 결측치 개수 : 3개\n",
            " Delta 13 C (o/oo)  에서 결측치 개수 : 3개\n"
          ]
        }
      ]
    },
    {
      "cell_type": "code",
      "source": [
        "train_dataset.head()"
      ],
      "metadata": {
        "colab": {
          "base_uri": "https://localhost:8080/",
          "height": 355
        },
        "id": "vQOAH9LOZaHZ",
        "outputId": "7afc3c39-c1d3-4631-e373-36e77fa715a9"
      },
      "execution_count": null,
      "outputs": [
        {
          "output_type": "execute_result",
          "data": {
            "text/html": [
              "\n",
              "  <div id=\"df-c52ea93f-4ef9-48b2-bb50-ac18e6012577\">\n",
              "    <div class=\"colab-df-container\">\n",
              "      <div>\n",
              "<style scoped>\n",
              "    .dataframe tbody tr th:only-of-type {\n",
              "        vertical-align: middle;\n",
              "    }\n",
              "\n",
              "    .dataframe tbody tr th {\n",
              "        vertical-align: top;\n",
              "    }\n",
              "\n",
              "    .dataframe thead th {\n",
              "        text-align: right;\n",
              "    }\n",
              "</style>\n",
              "<table border=\"1\" class=\"dataframe\">\n",
              "  <thead>\n",
              "    <tr style=\"text-align: right;\">\n",
              "      <th></th>\n",
              "      <th>Species</th>\n",
              "      <th>Island</th>\n",
              "      <th>Clutch Completion</th>\n",
              "      <th>Culmen Length (mm)</th>\n",
              "      <th>Culmen Depth (mm)</th>\n",
              "      <th>Flipper Length (mm)</th>\n",
              "      <th>Sex</th>\n",
              "      <th>Delta 15 N (o/oo)</th>\n",
              "      <th>Delta 13 C (o/oo)</th>\n",
              "      <th>Body Mass (g)</th>\n",
              "    </tr>\n",
              "  </thead>\n",
              "  <tbody>\n",
              "    <tr>\n",
              "      <th>0</th>\n",
              "      <td>Gentoo penguin (Pygoscelis papua)</td>\n",
              "      <td>Biscoe</td>\n",
              "      <td>Yes</td>\n",
              "      <td>50.0</td>\n",
              "      <td>15.3</td>\n",
              "      <td>220</td>\n",
              "      <td>MALE</td>\n",
              "      <td>8.30515</td>\n",
              "      <td>-25.19017</td>\n",
              "      <td>5550</td>\n",
              "    </tr>\n",
              "    <tr>\n",
              "      <th>1</th>\n",
              "      <td>Chinstrap penguin (Pygoscelis antarctica)</td>\n",
              "      <td>Dream</td>\n",
              "      <td>No</td>\n",
              "      <td>49.5</td>\n",
              "      <td>19.0</td>\n",
              "      <td>200</td>\n",
              "      <td>MALE</td>\n",
              "      <td>9.63074</td>\n",
              "      <td>-24.34684</td>\n",
              "      <td>3800</td>\n",
              "    </tr>\n",
              "    <tr>\n",
              "      <th>2</th>\n",
              "      <td>Gentoo penguin (Pygoscelis papua)</td>\n",
              "      <td>Biscoe</td>\n",
              "      <td>Yes</td>\n",
              "      <td>45.1</td>\n",
              "      <td>14.4</td>\n",
              "      <td>210</td>\n",
              "      <td>FEMALE</td>\n",
              "      <td>8.51951</td>\n",
              "      <td>-27.01854</td>\n",
              "      <td>4400</td>\n",
              "    </tr>\n",
              "    <tr>\n",
              "      <th>3</th>\n",
              "      <td>Gentoo penguin (Pygoscelis papua)</td>\n",
              "      <td>Biscoe</td>\n",
              "      <td>Yes</td>\n",
              "      <td>44.5</td>\n",
              "      <td>14.7</td>\n",
              "      <td>214</td>\n",
              "      <td>FEMALE</td>\n",
              "      <td>8.20106</td>\n",
              "      <td>-26.16524</td>\n",
              "      <td>4850</td>\n",
              "    </tr>\n",
              "    <tr>\n",
              "      <th>4</th>\n",
              "      <td>Gentoo penguin (Pygoscelis papua)</td>\n",
              "      <td>Biscoe</td>\n",
              "      <td>No</td>\n",
              "      <td>49.6</td>\n",
              "      <td>16.0</td>\n",
              "      <td>225</td>\n",
              "      <td>MALE</td>\n",
              "      <td>8.38324</td>\n",
              "      <td>-26.84272</td>\n",
              "      <td>5700</td>\n",
              "    </tr>\n",
              "  </tbody>\n",
              "</table>\n",
              "</div>\n",
              "      <button class=\"colab-df-convert\" onclick=\"convertToInteractive('df-c52ea93f-4ef9-48b2-bb50-ac18e6012577')\"\n",
              "              title=\"Convert this dataframe to an interactive table.\"\n",
              "              style=\"display:none;\">\n",
              "        \n",
              "  <svg xmlns=\"http://www.w3.org/2000/svg\" height=\"24px\"viewBox=\"0 0 24 24\"\n",
              "       width=\"24px\">\n",
              "    <path d=\"M0 0h24v24H0V0z\" fill=\"none\"/>\n",
              "    <path d=\"M18.56 5.44l.94 2.06.94-2.06 2.06-.94-2.06-.94-.94-2.06-.94 2.06-2.06.94zm-11 1L8.5 8.5l.94-2.06 2.06-.94-2.06-.94L8.5 2.5l-.94 2.06-2.06.94zm10 10l.94 2.06.94-2.06 2.06-.94-2.06-.94-.94-2.06-.94 2.06-2.06.94z\"/><path d=\"M17.41 7.96l-1.37-1.37c-.4-.4-.92-.59-1.43-.59-.52 0-1.04.2-1.43.59L10.3 9.45l-7.72 7.72c-.78.78-.78 2.05 0 2.83L4 21.41c.39.39.9.59 1.41.59.51 0 1.02-.2 1.41-.59l7.78-7.78 2.81-2.81c.8-.78.8-2.07 0-2.86zM5.41 20L4 18.59l7.72-7.72 1.47 1.35L5.41 20z\"/>\n",
              "  </svg>\n",
              "      </button>\n",
              "      \n",
              "  <style>\n",
              "    .colab-df-container {\n",
              "      display:flex;\n",
              "      flex-wrap:wrap;\n",
              "      gap: 12px;\n",
              "    }\n",
              "\n",
              "    .colab-df-convert {\n",
              "      background-color: #E8F0FE;\n",
              "      border: none;\n",
              "      border-radius: 50%;\n",
              "      cursor: pointer;\n",
              "      display: none;\n",
              "      fill: #1967D2;\n",
              "      height: 32px;\n",
              "      padding: 0 0 0 0;\n",
              "      width: 32px;\n",
              "    }\n",
              "\n",
              "    .colab-df-convert:hover {\n",
              "      background-color: #E2EBFA;\n",
              "      box-shadow: 0px 1px 2px rgba(60, 64, 67, 0.3), 0px 1px 3px 1px rgba(60, 64, 67, 0.15);\n",
              "      fill: #174EA6;\n",
              "    }\n",
              "\n",
              "    [theme=dark] .colab-df-convert {\n",
              "      background-color: #3B4455;\n",
              "      fill: #D2E3FC;\n",
              "    }\n",
              "\n",
              "    [theme=dark] .colab-df-convert:hover {\n",
              "      background-color: #434B5C;\n",
              "      box-shadow: 0px 1px 3px 1px rgba(0, 0, 0, 0.15);\n",
              "      filter: drop-shadow(0px 1px 2px rgba(0, 0, 0, 0.3));\n",
              "      fill: #FFFFFF;\n",
              "    }\n",
              "  </style>\n",
              "\n",
              "      <script>\n",
              "        const buttonEl =\n",
              "          document.querySelector('#df-c52ea93f-4ef9-48b2-bb50-ac18e6012577 button.colab-df-convert');\n",
              "        buttonEl.style.display =\n",
              "          google.colab.kernel.accessAllowed ? 'block' : 'none';\n",
              "\n",
              "        async function convertToInteractive(key) {\n",
              "          const element = document.querySelector('#df-c52ea93f-4ef9-48b2-bb50-ac18e6012577');\n",
              "          const dataTable =\n",
              "            await google.colab.kernel.invokeFunction('convertToInteractive',\n",
              "                                                     [key], {});\n",
              "          if (!dataTable) return;\n",
              "\n",
              "          const docLinkHtml = 'Like what you see? Visit the ' +\n",
              "            '<a target=\"_blank\" href=https://colab.research.google.com/notebooks/data_table.ipynb>data table notebook</a>'\n",
              "            + ' to learn more about interactive tables.';\n",
              "          element.innerHTML = '';\n",
              "          dataTable['output_type'] = 'display_data';\n",
              "          await google.colab.output.renderOutput(dataTable, element);\n",
              "          const docLink = document.createElement('div');\n",
              "          docLink.innerHTML = docLinkHtml;\n",
              "          element.appendChild(docLink);\n",
              "        }\n",
              "      </script>\n",
              "    </div>\n",
              "  </div>\n",
              "  "
            ],
            "text/plain": [
              "                                     Species  ... Body Mass (g)\n",
              "0          Gentoo penguin (Pygoscelis papua)  ...          5550\n",
              "1  Chinstrap penguin (Pygoscelis antarctica)  ...          3800\n",
              "2          Gentoo penguin (Pygoscelis papua)  ...          4400\n",
              "3          Gentoo penguin (Pygoscelis papua)  ...          4850\n",
              "4          Gentoo penguin (Pygoscelis papua)  ...          5700\n",
              "\n",
              "[5 rows x 10 columns]"
            ]
          },
          "metadata": {},
          "execution_count": 7
        }
      ]
    },
    {
      "cell_type": "code",
      "source": [
        "for col in test_dataset.columns:\n",
        "    n_nan = test_dataset[col].isnull().sum()\n",
        "    if n_nan>0:\n",
        "      msg = '{:^20}에서 결측치 개수 : {}개'.format(col,n_nan)\n",
        "      print(msg)"
      ],
      "metadata": {
        "colab": {
          "base_uri": "https://localhost:8080/"
        },
        "id": "Y7eI11vmZkLo",
        "outputId": "ae629a58-21aa-43f7-a848-31c4263e7ad4"
      },
      "execution_count": null,
      "outputs": [
        {
          "output_type": "stream",
          "name": "stdout",
          "text": [
            "        Sex         에서 결측치 개수 : 6개\n",
            " Delta 15 N (o/oo)  에서 결측치 개수 : 9개\n",
            " Delta 13 C (o/oo)  에서 결측치 개수 : 8개\n"
          ]
        }
      ]
    },
    {
      "cell_type": "code",
      "source": [
        "train_dataset['Sex']=np.where(train_dataset['Sex'].values=='MALE',1,np.where(train_dataset['Sex'].values=='FEMALE',0,np.nan))\n",
        "test_dataset['Sex']=np.where(test_dataset['Sex'].values=='MALE',1,np.where(test_dataset['Sex'].values=='FEMALE',0,np.nan))\n",
        "train_dataset['Clutch Completion']=np.where(train_dataset['Clutch Completion'].values=='Yes',1,0)\n",
        "test_dataset['Clutch Completion']=np.where(test_dataset['Clutch Completion'].values=='Yes',1,0)\n",
        "train = pd.concat([train_dataset,pd.get_dummies(train_dataset[['Island','Species']])],axis=1)\n",
        "test = pd.concat([test_dataset,pd.get_dummies(test_dataset[['Island','Species']])],axis=1)\n",
        "train = train.drop(['Island','Species'],axis=1)\n",
        "test = test.drop(['Island','Species'],axis=1)"
      ],
      "metadata": {
        "id": "bkzmEnSLZmnI"
      },
      "execution_count": null,
      "outputs": []
    },
    {
      "cell_type": "code",
      "source": [
        "train.head()\n"
      ],
      "metadata": {
        "colab": {
          "base_uri": "https://localhost:8080/",
          "height": 322
        },
        "id": "kefuNpMCZnjo",
        "outputId": "38fefb32-b74f-42d7-e5b8-445cc620f7b0"
      },
      "execution_count": null,
      "outputs": [
        {
          "output_type": "execute_result",
          "data": {
            "text/html": [
              "\n",
              "  <div id=\"df-e48563c2-6acb-4617-b587-e294ea5d53c6\">\n",
              "    <div class=\"colab-df-container\">\n",
              "      <div>\n",
              "<style scoped>\n",
              "    .dataframe tbody tr th:only-of-type {\n",
              "        vertical-align: middle;\n",
              "    }\n",
              "\n",
              "    .dataframe tbody tr th {\n",
              "        vertical-align: top;\n",
              "    }\n",
              "\n",
              "    .dataframe thead th {\n",
              "        text-align: right;\n",
              "    }\n",
              "</style>\n",
              "<table border=\"1\" class=\"dataframe\">\n",
              "  <thead>\n",
              "    <tr style=\"text-align: right;\">\n",
              "      <th></th>\n",
              "      <th>Clutch Completion</th>\n",
              "      <th>Culmen Length (mm)</th>\n",
              "      <th>Culmen Depth (mm)</th>\n",
              "      <th>Flipper Length (mm)</th>\n",
              "      <th>Sex</th>\n",
              "      <th>Delta 15 N (o/oo)</th>\n",
              "      <th>Delta 13 C (o/oo)</th>\n",
              "      <th>Body Mass (g)</th>\n",
              "      <th>Island_Biscoe</th>\n",
              "      <th>Island_Dream</th>\n",
              "      <th>Island_Torgersen</th>\n",
              "      <th>Species_Adelie Penguin (Pygoscelis adeliae)</th>\n",
              "      <th>Species_Chinstrap penguin (Pygoscelis antarctica)</th>\n",
              "      <th>Species_Gentoo penguin (Pygoscelis papua)</th>\n",
              "    </tr>\n",
              "  </thead>\n",
              "  <tbody>\n",
              "    <tr>\n",
              "      <th>0</th>\n",
              "      <td>1</td>\n",
              "      <td>50.0</td>\n",
              "      <td>15.3</td>\n",
              "      <td>220</td>\n",
              "      <td>1.0</td>\n",
              "      <td>8.30515</td>\n",
              "      <td>-25.19017</td>\n",
              "      <td>5550</td>\n",
              "      <td>1</td>\n",
              "      <td>0</td>\n",
              "      <td>0</td>\n",
              "      <td>0</td>\n",
              "      <td>0</td>\n",
              "      <td>1</td>\n",
              "    </tr>\n",
              "    <tr>\n",
              "      <th>1</th>\n",
              "      <td>0</td>\n",
              "      <td>49.5</td>\n",
              "      <td>19.0</td>\n",
              "      <td>200</td>\n",
              "      <td>1.0</td>\n",
              "      <td>9.63074</td>\n",
              "      <td>-24.34684</td>\n",
              "      <td>3800</td>\n",
              "      <td>0</td>\n",
              "      <td>1</td>\n",
              "      <td>0</td>\n",
              "      <td>0</td>\n",
              "      <td>1</td>\n",
              "      <td>0</td>\n",
              "    </tr>\n",
              "    <tr>\n",
              "      <th>2</th>\n",
              "      <td>1</td>\n",
              "      <td>45.1</td>\n",
              "      <td>14.4</td>\n",
              "      <td>210</td>\n",
              "      <td>0.0</td>\n",
              "      <td>8.51951</td>\n",
              "      <td>-27.01854</td>\n",
              "      <td>4400</td>\n",
              "      <td>1</td>\n",
              "      <td>0</td>\n",
              "      <td>0</td>\n",
              "      <td>0</td>\n",
              "      <td>0</td>\n",
              "      <td>1</td>\n",
              "    </tr>\n",
              "    <tr>\n",
              "      <th>3</th>\n",
              "      <td>1</td>\n",
              "      <td>44.5</td>\n",
              "      <td>14.7</td>\n",
              "      <td>214</td>\n",
              "      <td>0.0</td>\n",
              "      <td>8.20106</td>\n",
              "      <td>-26.16524</td>\n",
              "      <td>4850</td>\n",
              "      <td>1</td>\n",
              "      <td>0</td>\n",
              "      <td>0</td>\n",
              "      <td>0</td>\n",
              "      <td>0</td>\n",
              "      <td>1</td>\n",
              "    </tr>\n",
              "    <tr>\n",
              "      <th>4</th>\n",
              "      <td>0</td>\n",
              "      <td>49.6</td>\n",
              "      <td>16.0</td>\n",
              "      <td>225</td>\n",
              "      <td>1.0</td>\n",
              "      <td>8.38324</td>\n",
              "      <td>-26.84272</td>\n",
              "      <td>5700</td>\n",
              "      <td>1</td>\n",
              "      <td>0</td>\n",
              "      <td>0</td>\n",
              "      <td>0</td>\n",
              "      <td>0</td>\n",
              "      <td>1</td>\n",
              "    </tr>\n",
              "  </tbody>\n",
              "</table>\n",
              "</div>\n",
              "      <button class=\"colab-df-convert\" onclick=\"convertToInteractive('df-e48563c2-6acb-4617-b587-e294ea5d53c6')\"\n",
              "              title=\"Convert this dataframe to an interactive table.\"\n",
              "              style=\"display:none;\">\n",
              "        \n",
              "  <svg xmlns=\"http://www.w3.org/2000/svg\" height=\"24px\"viewBox=\"0 0 24 24\"\n",
              "       width=\"24px\">\n",
              "    <path d=\"M0 0h24v24H0V0z\" fill=\"none\"/>\n",
              "    <path d=\"M18.56 5.44l.94 2.06.94-2.06 2.06-.94-2.06-.94-.94-2.06-.94 2.06-2.06.94zm-11 1L8.5 8.5l.94-2.06 2.06-.94-2.06-.94L8.5 2.5l-.94 2.06-2.06.94zm10 10l.94 2.06.94-2.06 2.06-.94-2.06-.94-.94-2.06-.94 2.06-2.06.94z\"/><path d=\"M17.41 7.96l-1.37-1.37c-.4-.4-.92-.59-1.43-.59-.52 0-1.04.2-1.43.59L10.3 9.45l-7.72 7.72c-.78.78-.78 2.05 0 2.83L4 21.41c.39.39.9.59 1.41.59.51 0 1.02-.2 1.41-.59l7.78-7.78 2.81-2.81c.8-.78.8-2.07 0-2.86zM5.41 20L4 18.59l7.72-7.72 1.47 1.35L5.41 20z\"/>\n",
              "  </svg>\n",
              "      </button>\n",
              "      \n",
              "  <style>\n",
              "    .colab-df-container {\n",
              "      display:flex;\n",
              "      flex-wrap:wrap;\n",
              "      gap: 12px;\n",
              "    }\n",
              "\n",
              "    .colab-df-convert {\n",
              "      background-color: #E8F0FE;\n",
              "      border: none;\n",
              "      border-radius: 50%;\n",
              "      cursor: pointer;\n",
              "      display: none;\n",
              "      fill: #1967D2;\n",
              "      height: 32px;\n",
              "      padding: 0 0 0 0;\n",
              "      width: 32px;\n",
              "    }\n",
              "\n",
              "    .colab-df-convert:hover {\n",
              "      background-color: #E2EBFA;\n",
              "      box-shadow: 0px 1px 2px rgba(60, 64, 67, 0.3), 0px 1px 3px 1px rgba(60, 64, 67, 0.15);\n",
              "      fill: #174EA6;\n",
              "    }\n",
              "\n",
              "    [theme=dark] .colab-df-convert {\n",
              "      background-color: #3B4455;\n",
              "      fill: #D2E3FC;\n",
              "    }\n",
              "\n",
              "    [theme=dark] .colab-df-convert:hover {\n",
              "      background-color: #434B5C;\n",
              "      box-shadow: 0px 1px 3px 1px rgba(0, 0, 0, 0.15);\n",
              "      filter: drop-shadow(0px 1px 2px rgba(0, 0, 0, 0.3));\n",
              "      fill: #FFFFFF;\n",
              "    }\n",
              "  </style>\n",
              "\n",
              "      <script>\n",
              "        const buttonEl =\n",
              "          document.querySelector('#df-e48563c2-6acb-4617-b587-e294ea5d53c6 button.colab-df-convert');\n",
              "        buttonEl.style.display =\n",
              "          google.colab.kernel.accessAllowed ? 'block' : 'none';\n",
              "\n",
              "        async function convertToInteractive(key) {\n",
              "          const element = document.querySelector('#df-e48563c2-6acb-4617-b587-e294ea5d53c6');\n",
              "          const dataTable =\n",
              "            await google.colab.kernel.invokeFunction('convertToInteractive',\n",
              "                                                     [key], {});\n",
              "          if (!dataTable) return;\n",
              "\n",
              "          const docLinkHtml = 'Like what you see? Visit the ' +\n",
              "            '<a target=\"_blank\" href=https://colab.research.google.com/notebooks/data_table.ipynb>data table notebook</a>'\n",
              "            + ' to learn more about interactive tables.';\n",
              "          element.innerHTML = '';\n",
              "          dataTable['output_type'] = 'display_data';\n",
              "          await google.colab.output.renderOutput(dataTable, element);\n",
              "          const docLink = document.createElement('div');\n",
              "          docLink.innerHTML = docLinkHtml;\n",
              "          element.appendChild(docLink);\n",
              "        }\n",
              "      </script>\n",
              "    </div>\n",
              "  </div>\n",
              "  "
            ],
            "text/plain": [
              "   Clutch Completion  ...  Species_Gentoo penguin (Pygoscelis papua)\n",
              "0                  1  ...                                          1\n",
              "1                  0  ...                                          0\n",
              "2                  1  ...                                          1\n",
              "3                  1  ...                                          1\n",
              "4                  0  ...                                          1\n",
              "\n",
              "[5 rows x 14 columns]"
            ]
          },
          "metadata": {},
          "execution_count": 10
        }
      ]
    },
    {
      "cell_type": "code",
      "source": [
        "sns.boxplot(x='Island', y='Delta 15 N (o/oo)', data=train_dataset[['Island','Delta 15 N (o/oo)']])\n",
        "plt.show()"
      ],
      "metadata": {
        "colab": {
          "base_uri": "https://localhost:8080/",
          "height": 279
        },
        "id": "5HDVcVaDZoio",
        "outputId": "7d447e57-d4c1-41e7-b319-5e356c21a4a1"
      },
      "execution_count": null,
      "outputs": [
        {
          "output_type": "display_data",
          "data": {
            "image/png": "[encoded data removed]",
            "text/plain": [
              "<Figure size 432x288 with 1 Axes>"
            ]
          },
          "metadata": {
            "needs_background": "light"
          }
        }
      ]
    },
    {
      "cell_type": "code",
      "source": [
        "sns.set(rc = {'figure.figsize':(15,8)})\n",
        "sns.boxplot(x='Species', y='Delta 15 N (o/oo)',hue = 'Island', data=train_dataset[['Island','Species','Delta 15 N (o/oo)']])\n",
        "plt.show()\n"
      ],
      "metadata": {
        "colab": {
          "base_uri": "https://localhost:8080/",
          "height": 502
        },
        "id": "sEyg4_e7ZqKY",
        "outputId": "e1184ef8-8bde-427f-de00-063e06574399"
      },
      "execution_count": null,
      "outputs": [
        {
          "output_type": "display_data",
          "data": {
            "image/png": "[encoded data removed]",
            "text/plain": [
              "<Figure size 1080x576 with 1 Axes>"
            ]
          },
          "metadata": {}
        }
      ]
    },
    {
      "cell_type": "code",
      "source": [
        "sns.set(rc = {'figure.figsize':(15,8)})\n",
        "sns.boxplot(x='Species', y='Delta 13 C (o/oo)',hue = 'Island', data=train_dataset[['Island','Species','Delta 13 C (o/oo)']])\n",
        "plt.show()"
      ],
      "metadata": {
        "colab": {
          "base_uri": "https://localhost:8080/",
          "height": 502
        },
        "id": "14h85pRxZtUI",
        "outputId": "f59a9a1b-c343-4221-f9eb-049bd1ca51ab"
      },
      "execution_count": null,
      "outputs": [
        {
          "output_type": "display_data",
          "data": {
            "image/png": "[encoded data removed]",
            "text/plain": [
              "<Figure size 1080x576 with 1 Axes>"
            ]
          },
          "metadata": {}
        }
      ]
    },
    {
      "cell_type": "markdown",
      "source": [
        "# 숫자형 데이터들간의 피어슨 상관계수\n",
        "피어슨 상관계수 설명 : 피어슨 상관 계수(Pearson Correlation Coefficient ,PCC)란 두 변수 X 와 Y 간의 선형 상관 관계를 계량화한 수치다 . 피어슨 상관 계수는 코시-슈바르츠 부등식에 의해 +1과 -1 사이의 값을 가지며, +1은 완벽한 양의 선형 상관 관계, 0은 선형 상관 관계 없음, -1은 완벽한 음의 선형 상관 관계를 의미한다. https://ko.wikipedia.org/wiki/%ED%94%BC%EC%96%B4%EC%8A%A8_%EC%83%81%EA%B4%80_%EA%B3%84%EC%88%98\n",
        "출처 : 위키백과"
      ],
      "metadata": {
        "id": "PVUh9ja2ZyNp"
      }
    },
    {
      "cell_type": "code",
      "source": [
        "set_option('precision',2)\n",
        "train.corr(method='pearson')"
      ],
      "metadata": {
        "colab": {
          "base_uri": "https://localhost:8080/",
          "height": 899
        },
        "id": "K7OgDqPdZwC5",
        "outputId": "4c36de34-7bfc-466b-eb1e-69e07503aa62"
      },
      "execution_count": null,
      "outputs": [
        {
          "output_type": "execute_result",
          "data": {
            "text/html": [
              "\n",
              "  <div id=\"df-5ef61b09-1d8d-4785-9d71-65ec279a524f\">\n",
              "    <div class=\"colab-df-container\">\n",
              "      <div>\n",
              "<style scoped>\n",
              "    .dataframe tbody tr th:only-of-type {\n",
              "        vertical-align: middle;\n",
              "    }\n",
              "\n",
              "    .dataframe tbody tr th {\n",
              "        vertical-align: top;\n",
              "    }\n",
              "\n",
              "    .dataframe thead th {\n",
              "        text-align: right;\n",
              "    }\n",
              "</style>\n",
              "<table border=\"1\" class=\"dataframe\">\n",
              "  <thead>\n",
              "    <tr style=\"text-align: right;\">\n",
              "      <th></th>\n",
              "      <th>Clutch Completion</th>\n",
              "      <th>Culmen Length (mm)</th>\n",
              "      <th>Culmen Depth (mm)</th>\n",
              "      <th>Flipper Length (mm)</th>\n",
              "      <th>Sex</th>\n",
              "      <th>Delta 15 N (o/oo)</th>\n",
              "      <th>Delta 13 C (o/oo)</th>\n",
              "      <th>Body Mass (g)</th>\n",
              "      <th>Island_Biscoe</th>\n",
              "      <th>Island_Dream</th>\n",
              "      <th>Island_Torgersen</th>\n",
              "      <th>Species_Adelie Penguin (Pygoscelis adeliae)</th>\n",
              "      <th>Species_Chinstrap penguin (Pygoscelis antarctica)</th>\n",
              "      <th>Species_Gentoo penguin (Pygoscelis papua)</th>\n",
              "    </tr>\n",
              "  </thead>\n",
              "  <tbody>\n",
              "    <tr>\n",
              "      <th>Clutch Completion</th>\n",
              "      <td>1.00</td>\n",
              "      <td>-0.12</td>\n",
              "      <td>-0.21</td>\n",
              "      <td>0.11</td>\n",
              "      <td>-1.13e-01</td>\n",
              "      <td>-0.28</td>\n",
              "      <td>-0.29</td>\n",
              "      <td>0.09</td>\n",
              "      <td>2.29e-01</td>\n",
              "      <td>-3.15e-01</td>\n",
              "      <td>0.12</td>\n",
              "      <td>0.08</td>\n",
              "      <td>-0.30</td>\n",
              "      <td>0.18</td>\n",
              "    </tr>\n",
              "    <tr>\n",
              "      <th>Culmen Length (mm)</th>\n",
              "      <td>-0.12</td>\n",
              "      <td>1.00</td>\n",
              "      <td>-0.25</td>\n",
              "      <td>0.67</td>\n",
              "      <td>3.24e-01</td>\n",
              "      <td>-0.04</td>\n",
              "      <td>0.11</td>\n",
              "      <td>0.57</td>\n",
              "      <td>2.97e-01</td>\n",
              "      <td>-4.72e-02</td>\n",
              "      <td>-0.39</td>\n",
              "      <td>-0.82</td>\n",
              "      <td>0.38</td>\n",
              "      <td>0.48</td>\n",
              "    </tr>\n",
              "    <tr>\n",
              "      <th>Culmen Depth (mm)</th>\n",
              "      <td>-0.21</td>\n",
              "      <td>-0.25</td>\n",
              "      <td>1.00</td>\n",
              "      <td>-0.60</td>\n",
              "      <td>3.69e-01</td>\n",
              "      <td>0.65</td>\n",
              "      <td>0.48</td>\n",
              "      <td>-0.49</td>\n",
              "      <td>-7.25e-01</td>\n",
              "      <td>5.60e-01</td>\n",
              "      <td>0.28</td>\n",
              "      <td>0.52</td>\n",
              "      <td>0.38</td>\n",
              "      <td>-0.83</td>\n",
              "    </tr>\n",
              "    <tr>\n",
              "      <th>Flipper Length (mm)</th>\n",
              "      <td>0.11</td>\n",
              "      <td>0.67</td>\n",
              "      <td>-0.60</td>\n",
              "      <td>1.00</td>\n",
              "      <td>2.51e-01</td>\n",
              "      <td>-0.53</td>\n",
              "      <td>-0.45</td>\n",
              "      <td>0.86</td>\n",
              "      <td>7.40e-01</td>\n",
              "      <td>-5.66e-01</td>\n",
              "      <td>-0.30</td>\n",
              "      <td>-0.69</td>\n",
              "      <td>-0.25</td>\n",
              "      <td>0.88</td>\n",
              "    </tr>\n",
              "    <tr>\n",
              "      <th>Sex</th>\n",
              "      <td>-0.11</td>\n",
              "      <td>0.32</td>\n",
              "      <td>0.37</td>\n",
              "      <td>0.25</td>\n",
              "      <td>1.00e+00</td>\n",
              "      <td>0.14</td>\n",
              "      <td>-0.10</td>\n",
              "      <td>0.42</td>\n",
              "      <td>-9.09e-03</td>\n",
              "      <td>-7.30e-03</td>\n",
              "      <td>0.03</td>\n",
              "      <td>0.05</td>\n",
              "      <td>-0.07</td>\n",
              "      <td>0.01</td>\n",
              "    </tr>\n",
              "    <tr>\n",
              "      <th>Delta 15 N (o/oo)</th>\n",
              "      <td>-0.28</td>\n",
              "      <td>-0.04</td>\n",
              "      <td>0.65</td>\n",
              "      <td>-0.53</td>\n",
              "      <td>1.36e-01</td>\n",
              "      <td>1.00</td>\n",
              "      <td>0.64</td>\n",
              "      <td>-0.55</td>\n",
              "      <td>-6.44e-01</td>\n",
              "      <td>7.03e-01</td>\n",
              "      <td>-0.07</td>\n",
              "      <td>0.17</td>\n",
              "      <td>0.65</td>\n",
              "      <td>-0.71</td>\n",
              "    </tr>\n",
              "    <tr>\n",
              "      <th>Delta 13 C (o/oo)</th>\n",
              "      <td>-0.29</td>\n",
              "      <td>0.11</td>\n",
              "      <td>0.48</td>\n",
              "      <td>-0.45</td>\n",
              "      <td>-9.94e-02</td>\n",
              "      <td>0.64</td>\n",
              "      <td>1.00</td>\n",
              "      <td>-0.47</td>\n",
              "      <td>-5.89e-01</td>\n",
              "      <td>6.74e-01</td>\n",
              "      <td>-0.11</td>\n",
              "      <td>-0.09</td>\n",
              "      <td>0.76</td>\n",
              "      <td>-0.56</td>\n",
              "    </tr>\n",
              "    <tr>\n",
              "      <th>Body Mass (g)</th>\n",
              "      <td>0.09</td>\n",
              "      <td>0.57</td>\n",
              "      <td>-0.49</td>\n",
              "      <td>0.86</td>\n",
              "      <td>4.20e-01</td>\n",
              "      <td>-0.55</td>\n",
              "      <td>-0.47</td>\n",
              "      <td>1.00</td>\n",
              "      <td>7.08e-01</td>\n",
              "      <td>-5.74e-01</td>\n",
              "      <td>-0.24</td>\n",
              "      <td>-0.51</td>\n",
              "      <td>-0.39</td>\n",
              "      <td>0.82</td>\n",
              "    </tr>\n",
              "    <tr>\n",
              "      <th>Island_Biscoe</th>\n",
              "      <td>0.23</td>\n",
              "      <td>0.30</td>\n",
              "      <td>-0.72</td>\n",
              "      <td>0.74</td>\n",
              "      <td>-9.09e-03</td>\n",
              "      <td>-0.64</td>\n",
              "      <td>-0.59</td>\n",
              "      <td>0.71</td>\n",
              "      <td>1.00e+00</td>\n",
              "      <td>-7.93e-01</td>\n",
              "      <td>-0.36</td>\n",
              "      <td>-0.42</td>\n",
              "      <td>-0.53</td>\n",
              "      <td>0.85</td>\n",
              "    </tr>\n",
              "    <tr>\n",
              "      <th>Island_Dream</th>\n",
              "      <td>-0.32</td>\n",
              "      <td>-0.05</td>\n",
              "      <td>0.56</td>\n",
              "      <td>-0.57</td>\n",
              "      <td>-7.30e-03</td>\n",
              "      <td>0.70</td>\n",
              "      <td>0.67</td>\n",
              "      <td>-0.57</td>\n",
              "      <td>-7.93e-01</td>\n",
              "      <td>1.00e+00</td>\n",
              "      <td>-0.28</td>\n",
              "      <td>0.12</td>\n",
              "      <td>0.67</td>\n",
              "      <td>-0.68</td>\n",
              "    </tr>\n",
              "    <tr>\n",
              "      <th>Island_Torgersen</th>\n",
              "      <td>0.12</td>\n",
              "      <td>-0.39</td>\n",
              "      <td>0.28</td>\n",
              "      <td>-0.30</td>\n",
              "      <td>2.72e-02</td>\n",
              "      <td>-0.07</td>\n",
              "      <td>-0.11</td>\n",
              "      <td>-0.24</td>\n",
              "      <td>-3.59e-01</td>\n",
              "      <td>-2.84e-01</td>\n",
              "      <td>1.00</td>\n",
              "      <td>0.48</td>\n",
              "      <td>-0.19</td>\n",
              "      <td>-0.31</td>\n",
              "    </tr>\n",
              "    <tr>\n",
              "      <th>Species_Adelie Penguin (Pygoscelis adeliae)</th>\n",
              "      <td>0.08</td>\n",
              "      <td>-0.82</td>\n",
              "      <td>0.52</td>\n",
              "      <td>-0.69</td>\n",
              "      <td>5.00e-02</td>\n",
              "      <td>0.17</td>\n",
              "      <td>-0.09</td>\n",
              "      <td>-0.51</td>\n",
              "      <td>-4.20e-01</td>\n",
              "      <td>1.19e-01</td>\n",
              "      <td>0.48</td>\n",
              "      <td>1.00</td>\n",
              "      <td>-0.40</td>\n",
              "      <td>-0.64</td>\n",
              "    </tr>\n",
              "    <tr>\n",
              "      <th>Species_Chinstrap penguin (Pygoscelis antarctica)</th>\n",
              "      <td>-0.30</td>\n",
              "      <td>0.38</td>\n",
              "      <td>0.38</td>\n",
              "      <td>-0.25</td>\n",
              "      <td>-6.96e-02</td>\n",
              "      <td>0.65</td>\n",
              "      <td>0.76</td>\n",
              "      <td>-0.39</td>\n",
              "      <td>-5.30e-01</td>\n",
              "      <td>6.68e-01</td>\n",
              "      <td>-0.19</td>\n",
              "      <td>-0.40</td>\n",
              "      <td>1.00</td>\n",
              "      <td>-0.45</td>\n",
              "    </tr>\n",
              "    <tr>\n",
              "      <th>Species_Gentoo penguin (Pygoscelis papua)</th>\n",
              "      <td>0.18</td>\n",
              "      <td>0.48</td>\n",
              "      <td>-0.83</td>\n",
              "      <td>0.88</td>\n",
              "      <td>1.05e-02</td>\n",
              "      <td>-0.71</td>\n",
              "      <td>-0.56</td>\n",
              "      <td>0.82</td>\n",
              "      <td>8.53e-01</td>\n",
              "      <td>-6.76e-01</td>\n",
              "      <td>-0.31</td>\n",
              "      <td>-0.64</td>\n",
              "      <td>-0.45</td>\n",
              "      <td>1.00</td>\n",
              "    </tr>\n",
              "  </tbody>\n",
              "</table>\n",
              "</div>\n",
              "      <button class=\"colab-df-convert\" onclick=\"convertToInteractive('df-5ef61b09-1d8d-4785-9d71-65ec279a524f')\"\n",
              "              title=\"Convert this dataframe to an interactive table.\"\n",
              "              style=\"display:none;\">\n",
              "        \n",
              "  <svg xmlns=\"http://www.w3.org/2000/svg\" height=\"24px\"viewBox=\"0 0 24 24\"\n",
              "       width=\"24px\">\n",
              "    <path d=\"M0 0h24v24H0V0z\" fill=\"none\"/>\n",
              "    <path d=\"M18.56 5.44l.94 2.06.94-2.06 2.06-.94-2.06-.94-.94-2.06-.94 2.06-2.06.94zm-11 1L8.5 8.5l.94-2.06 2.06-.94-2.06-.94L8.5 2.5l-.94 2.06-2.06.94zm10 10l.94 2.06.94-2.06 2.06-.94-2.06-.94-.94-2.06-.94 2.06-2.06.94z\"/><path d=\"M17.41 7.96l-1.37-1.37c-.4-.4-.92-.59-1.43-.59-.52 0-1.04.2-1.43.59L10.3 9.45l-7.72 7.72c-.78.78-.78 2.05 0 2.83L4 21.41c.39.39.9.59 1.41.59.51 0 1.02-.2 1.41-.59l7.78-7.78 2.81-2.81c.8-.78.8-2.07 0-2.86zM5.41 20L4 18.59l7.72-7.72 1.47 1.35L5.41 20z\"/>\n",
              "  </svg>\n",
              "      </button>\n",
              "      \n",
              "  <style>\n",
              "    .colab-df-container {\n",
              "      display:flex;\n",
              "      flex-wrap:wrap;\n",
              "      gap: 12px;\n",
              "    }\n",
              "\n",
              "    .colab-df-convert {\n",
              "      background-color: #E8F0FE;\n",
              "      border: none;\n",
              "      border-radius: 50%;\n",
              "      cursor: pointer;\n",
              "      display: none;\n",
              "      fill: #1967D2;\n",
              "      height: 32px;\n",
              "      padding: 0 0 0 0;\n",
              "      width: 32px;\n",
              "    }\n",
              "\n",
              "    .colab-df-convert:hover {\n",
              "      background-color: #E2EBFA;\n",
              "      box-shadow: 0px 1px 2px rgba(60, 64, 67, 0.3), 0px 1px 3px 1px rgba(60, 64, 67, 0.15);\n",
              "      fill: #174EA6;\n",
              "    }\n",
              "\n",
              "    [theme=dark] .colab-df-convert {\n",
              "      background-color: #3B4455;\n",
              "      fill: #D2E3FC;\n",
              "    }\n",
              "\n",
              "    [theme=dark] .colab-df-convert:hover {\n",
              "      background-color: #434B5C;\n",
              "      box-shadow: 0px 1px 3px 1px rgba(0, 0, 0, 0.15);\n",
              "      filter: drop-shadow(0px 1px 2px rgba(0, 0, 0, 0.3));\n",
              "      fill: #FFFFFF;\n",
              "    }\n",
              "  </style>\n",
              "\n",
              "      <script>\n",
              "        const buttonEl =\n",
              "          document.querySelector('#df-5ef61b09-1d8d-4785-9d71-65ec279a524f button.colab-df-convert');\n",
              "        buttonEl.style.display =\n",
              "          google.colab.kernel.accessAllowed ? 'block' : 'none';\n",
              "\n",
              "        async function convertToInteractive(key) {\n",
              "          const element = document.querySelector('#df-5ef61b09-1d8d-4785-9d71-65ec279a524f');\n",
              "          const dataTable =\n",
              "            await google.colab.kernel.invokeFunction('convertToInteractive',\n",
              "                                                     [key], {});\n",
              "          if (!dataTable) return;\n",
              "\n",
              "          const docLinkHtml = 'Like what you see? Visit the ' +\n",
              "            '<a target=\"_blank\" href=https://colab.research.google.com/notebooks/data_table.ipynb>data table notebook</a>'\n",
              "            + ' to learn more about interactive tables.';\n",
              "          element.innerHTML = '';\n",
              "          dataTable['output_type'] = 'display_data';\n",
              "          await google.colab.output.renderOutput(dataTable, element);\n",
              "          const docLink = document.createElement('div');\n",
              "          docLink.innerHTML = docLinkHtml;\n",
              "          element.appendChild(docLink);\n",
              "        }\n",
              "      </script>\n",
              "    </div>\n",
              "  </div>\n",
              "  "
            ],
            "text/plain": [
              "                                                   Clutch Completion  ...  Species_Gentoo penguin (Pygoscelis papua)\n",
              "Clutch Completion                                               1.00  ...                                       0.18\n",
              "Culmen Length (mm)                                             -0.12  ...                                       0.48\n",
              "Culmen Depth (mm)                                              -0.21  ...                                      -0.83\n",
              "Flipper Length (mm)                                             0.11  ...                                       0.88\n",
              "Sex                                                            -0.11  ...                                       0.01\n",
              "Delta 15 N (o/oo)                                              -0.28  ...                                      -0.71\n",
              "Delta 13 C (o/oo)                                              -0.29  ...                                      -0.56\n",
              "Body Mass (g)                                                   0.09  ...                                       0.82\n",
              "Island_Biscoe                                                   0.23  ...                                       0.85\n",
              "Island_Dream                                                   -0.32  ...                                      -0.68\n",
              "Island_Torgersen                                                0.12  ...                                      -0.31\n",
              "Species_Adelie Penguin (Pygoscelis adeliae)                     0.08  ...                                      -0.64\n",
              "Species_Chinstrap penguin (Pygoscelis antarctica)              -0.30  ...                                      -0.45\n",
              "Species_Gentoo penguin (Pygoscelis papua)                       0.18  ...                                       1.00\n",
              "\n",
              "[14 rows x 14 columns]"
            ]
          },
          "metadata": {},
          "execution_count": 14
        }
      ]
    },
    {
      "cell_type": "markdown",
      "source": [
        "Sex 결측치 채우기"
      ],
      "metadata": {
        "id": "sf1fQNBIbqJw"
      }
    },
    {
      "cell_type": "code",
      "source": [
        "sex_features = ['Culmen Length (mm)', 'Culmen Depth (mm)',\n",
        "       'Flipper Length (mm)','Species_Adelie Penguin (Pygoscelis adeliae)',\n",
        "       'Species_Chinstrap penguin (Pygoscelis antarctica)',\n",
        "       'Species_Gentoo penguin (Pygoscelis papua)', 'Island_Biscoe', 'Island_Dream', 'Island_Torgersen'\n",
        "       ]\n"
      ],
      "metadata": {
        "id": "OG3bVGs5ZxWo"
      },
      "execution_count": null,
      "outputs": []
    },
    {
      "cell_type": "code",
      "source": [
        "models = []\n",
        "models.append(('LR',LogisticRegression(solver='liblinear',multi_class = 'ovr')))\n",
        "models.append(('LDA',LinearDiscriminantAnalysis()))\n",
        "models.append(('KNN',KNeighborsClassifier()))\n",
        "models.append(('CART',DecisionTreeClassifier()))\n",
        "models.append(('NB',GaussianNB()))\n",
        "models.append(('SVM',SVC(gamma='auto')))\n",
        "models.append(('RFC',RandomForestClassifier()))\n",
        "models.append(('XGBC',XGBClassifier(iterations=10000,verbose=False)))\n",
        "models.append(('LGBMC',LGBMClassifier()))\n",
        "models.append(('AdaC',AdaBoostClassifier()))\n",
        "models.append(('Cat',CatBoostClassifier(iterations=10000,verbose=False)))\n",
        "results =[]\n",
        "names = []\n",
        "for name, model in models:\n",
        "  kfold = KFold(n_splits=10,random_state=7,shuffle = True)\n",
        "  cv_results = cross_val_score(model,train[sex_features].iloc[train['Sex'].dropna().index]\n",
        "                               ,train['Sex'].iloc[train['Sex'].dropna().index]\n",
        "                               ,cv= kfold,scoring='accuracy')\n",
        "  results.append(cv_results)\n",
        "  names.append(name)\n",
        "  msg = \"%s : %f (%f) \"%(name,cv_results.mean(),cv_results.std())\n",
        "  print(msg)"
      ],
      "metadata": {
        "colab": {
          "base_uri": "https://localhost:8080/"
        },
        "id": "JJcFfHeuaIG5",
        "outputId": "42d13915-39e5-4d72-b933-2abe2650fcb3"
      },
      "execution_count": null,
      "outputs": [
        {
          "output_type": "stream",
          "name": "stdout",
          "text": [
            "LR : 0.721212 (0.083320) \n",
            "LDA : 0.874242 (0.091926) \n",
            "KNN : 0.775000 (0.092291) \n",
            "CART : 0.765152 (0.109940) \n",
            "NB : 0.702273 (0.147447) \n",
            "SVM : 0.737879 (0.138543) \n",
            "RFC : 0.809848 (0.111672) \n",
            "XGBC : 0.818939 (0.108227) \n",
            "LGBMC : 0.818939 (0.082186) \n",
            "AdaC : 0.891667 (0.068270) \n",
            "Cat : 0.810606 (0.086044) \n"
          ]
        }
      ]
    },
    {
      "cell_type": "code",
      "source": [
        "fig = plt.figure()\n",
        "fig.suptitle('Algorithm Comparison')\n",
        "ax = fig.add_subplot(111)\n",
        "plt.boxplot(results)\n",
        "ax.set_xticklabels(names)\n",
        "plt.show()"
      ],
      "metadata": {
        "colab": {
          "base_uri": "https://localhost:8080/",
          "height": 543
        },
        "id": "3NDRj1knaKZZ",
        "outputId": "23f807d8-0138-4e89-e447-522c35c2d42b"
      },
      "execution_count": null,
      "outputs": [
        {
          "output_type": "display_data",
          "data": {
            "image/png": "[encoded data removed]",
            "text/plain": [
              "<Figure size 1080x576 with 1 Axes>"
            ]
          },
          "metadata": {}
        }
      ]
    },
    {
      "cell_type": "code",
      "source": [
        "sex_model = AdaBoostClassifier()\n",
        "sex_model.fit(train[sex_features].iloc[train['Sex'].dropna().index],train['Sex'].iloc[train['Sex'].dropna().index])\n",
        "train['Sex'].iloc[np.where(train['Sex'].isnull()==True)] =  sex_model.predict(train[train['Sex'].isnull()][sex_features])\n",
        "test['Sex'].iloc[np.where(test['Sex'].isnull()==True)] =  sex_model.predict(test[test['Sex'].isnull()][sex_features])"
      ],
      "metadata": {
        "colab": {
          "base_uri": "https://localhost:8080/"
        },
        "id": "ngjnakXcaMGZ",
        "outputId": "1c2223da-5da8-4d5b-aa6c-29b2035ad95b"
      },
      "execution_count": null,
      "outputs": [
        {
          "output_type": "stream",
          "name": "stderr",
          "text": [
            "/usr/local/lib/python3.7/dist-packages/pandas/core/indexing.py:670: SettingWithCopyWarning: \n",
            "A value is trying to be set on a copy of a slice from a DataFrame\n",
            "\n",
            "See the caveats in the documentation: https://pandas.pydata.org/pandas-docs/stable/user_guide/indexing.html#returning-a-view-versus-a-copy\n",
            "  iloc._setitem_with_indexer(indexer, value)\n",
            "/usr/local/lib/python3.7/dist-packages/pandas/core/indexing.py:670: SettingWithCopyWarning: \n",
            "A value is trying to be set on a copy of a slice from a DataFrame\n",
            "\n",
            "See the caveats in the documentation: https://pandas.pydata.org/pandas-docs/stable/user_guide/indexing.html#returning-a-view-versus-a-copy\n",
            "  iloc._setitem_with_indexer(indexer, value)\n"
          ]
        }
      ]
    },
    {
      "cell_type": "markdown",
      "source": [
        "Delta 15 N 결측치 채우기"
      ],
      "metadata": {
        "id": "7SfJu99pbs2A"
      }
    },
    {
      "cell_type": "code",
      "source": [
        "Delta_features = ['Culmen Length (mm)', 'Culmen Depth (mm)',\n",
        "       'Flipper Length (mm)','Species_Adelie Penguin (Pygoscelis adeliae)',\n",
        "       'Species_Chinstrap penguin (Pygoscelis antarctica)',\n",
        "       'Species_Gentoo penguin (Pygoscelis papua)', 'Island_Biscoe', 'Island_Dream', 'Island_Torgersen','Sex'\n",
        "       ]"
      ],
      "metadata": {
        "id": "gfwRoqZoaPxI"
      },
      "execution_count": null,
      "outputs": []
    },
    {
      "cell_type": "code",
      "source": [
        "models = []\n",
        "models.append(('LR',LinearRegression()))\n",
        "models.append(('LASSO',Lasso()))\n",
        "models.append(('KNN',KNeighborsRegressor()))\n",
        "models.append(('CART',DecisionTreeRegressor()))\n",
        "models.append(('EN',ElasticNet()))\n",
        "models.append(('SVM',SVR()))\n",
        "models.append(('RFR',RandomForestRegressor()))\n",
        "models.append(('XGBR',XGBRegressor(iterations=10000,verbose=False)))\n",
        "models.append(('LGBMR',LGBMRegressor()))\n",
        "models.append(('AdaR',AdaBoostRegressor()))\n",
        "models.append(('Cat',CatBoostRegressor(iterations=10000,verbose=False)))\n",
        "results =[]\n",
        "names = []\n",
        "for name, model in models:\n",
        "  kfold = KFold(n_splits=10,random_state=7,shuffle = True)\n",
        "  cv_results = cross_val_score(model,train[Delta_features].iloc[train['Delta 15 N (o/oo)'].dropna().index]\n",
        "                               ,train['Delta 15 N (o/oo)'].iloc[train['Delta 15 N (o/oo)'].dropna().index]\n",
        "                               ,cv= kfold,scoring='neg_mean_squared_error')\n",
        "  results.append(cv_results)\n",
        "  names.append(name)\n",
        "  msg = \"%s : %f (%f) \"%(name,cv_results.mean(),cv_results.std())\n",
        "  print(msg)"
      ],
      "metadata": {
        "colab": {
          "base_uri": "https://localhost:8080/"
        },
        "id": "MofaI-sOaRAY",
        "outputId": "8505afaf-5045-44a4-999c-3959633d4bef"
      },
      "execution_count": null,
      "outputs": [
        {
          "output_type": "stream",
          "name": "stdout",
          "text": [
            "LR : -0.116568 (0.036340) \n",
            "LASSO : -0.238135 (0.090412) \n",
            "KNN : -0.159055 (0.078713) \n",
            "CART : -0.239917 (0.123959) \n",
            "EN : -0.211953 (0.079840) \n",
            "SVM : -0.232461 (0.090579) \n",
            "RFR : -0.149528 (0.079932) \n",
            "[10:10:10] WARNING: /workspace/src/objective/regression_obj.cu:152: reg:linear is now deprecated in favor of reg:squarederror.\n",
            "[10:10:10] WARNING: /workspace/src/objective/regression_obj.cu:152: reg:linear is now deprecated in favor of reg:squarederror.\n",
            "[10:10:10] WARNING: /workspace/src/objective/regression_obj.cu:152: reg:linear is now deprecated in favor of reg:squarederror.\n",
            "[10:10:10] WARNING: /workspace/src/objective/regression_obj.cu:152: reg:linear is now deprecated in favor of reg:squarederror.\n",
            "[10:10:10] WARNING: /workspace/src/objective/regression_obj.cu:152: reg:linear is now deprecated in favor of reg:squarederror.\n",
            "[10:10:10] WARNING: /workspace/src/objective/regression_obj.cu:152: reg:linear is now deprecated in favor of reg:squarederror.\n",
            "[10:10:10] WARNING: /workspace/src/objective/regression_obj.cu:152: reg:linear is now deprecated in favor of reg:squarederror.\n",
            "[10:10:10] WARNING: /workspace/src/objective/regression_obj.cu:152: reg:linear is now deprecated in favor of reg:squarederror.\n",
            "[10:10:10] WARNING: /workspace/src/objective/regression_obj.cu:152: reg:linear is now deprecated in favor of reg:squarederror.\n",
            "[10:10:10] WARNING: /workspace/src/objective/regression_obj.cu:152: reg:linear is now deprecated in favor of reg:squarederror.\n",
            "XGBR : -0.147602 (0.089152) \n",
            "LGBMR : -0.126749 (0.041506) \n",
            "AdaR : -0.137826 (0.069372) \n",
            "Cat : -0.154403 (0.073445) \n"
          ]
        }
      ]
    },
    {
      "cell_type": "code",
      "source": [
        "fig = plt.figure()\n",
        "fig.suptitle('Algorithm Comparison')\n",
        "ax = fig.add_subplot(111)\n",
        "plt.boxplot(results)\n",
        "ax.set_xticklabels(names)\n",
        "plt.show()"
      ],
      "metadata": {
        "colab": {
          "base_uri": "https://localhost:8080/",
          "height": 543
        },
        "id": "oEHEllGNaSwI",
        "outputId": "cbccb373-d12f-473e-fc1d-46601c1efb80"
      },
      "execution_count": null,
      "outputs": [
        {
          "output_type": "display_data",
          "data": {
            "image/png": "[encoded data removed]",
            "text/plain": [
              "<Figure size 1080x576 with 1 Axes>"
            ]
          },
          "metadata": {}
        }
      ]
    },
    {
      "cell_type": "code",
      "source": [
        "d15_model = AdaBoostRegressor()\n",
        "d15_model.fit(train[Delta_features].iloc[train['Delta 15 N (o/oo)'].dropna().index]\n",
        "                               ,train['Delta 15 N (o/oo)'].iloc[train['Delta 15 N (o/oo)'].dropna().index])\n",
        "train['Delta 15 N (o/oo)'].iloc[np.where(train['Delta 15 N (o/oo)'].isnull()==True)] =  d15_model.predict(train[train['Delta 15 N (o/oo)'].isnull()][Delta_features])\n",
        "test['Delta 15 N (o/oo)'].iloc[np.where(test['Delta 15 N (o/oo)'].isnull()==True)] =  d15_model.predict(test[test['Delta 15 N (o/oo)'].isnull()][Delta_features])"
      ],
      "metadata": {
        "colab": {
          "base_uri": "https://localhost:8080/"
        },
        "id": "ry0EbPUIaT7g",
        "outputId": "c3f8f306-2538-46dc-905b-0352b039edc9"
      },
      "execution_count": null,
      "outputs": [
        {
          "output_type": "stream",
          "name": "stderr",
          "text": [
            "/usr/local/lib/python3.7/dist-packages/pandas/core/indexing.py:670: SettingWithCopyWarning: \n",
            "A value is trying to be set on a copy of a slice from a DataFrame\n",
            "\n",
            "See the caveats in the documentation: https://pandas.pydata.org/pandas-docs/stable/user_guide/indexing.html#returning-a-view-versus-a-copy\n",
            "  iloc._setitem_with_indexer(indexer, value)\n",
            "/usr/local/lib/python3.7/dist-packages/pandas/core/indexing.py:670: SettingWithCopyWarning: \n",
            "A value is trying to be set on a copy of a slice from a DataFrame\n",
            "\n",
            "See the caveats in the documentation: https://pandas.pydata.org/pandas-docs/stable/user_guide/indexing.html#returning-a-view-versus-a-copy\n",
            "  iloc._setitem_with_indexer(indexer, value)\n"
          ]
        }
      ]
    },
    {
      "cell_type": "markdown",
      "source": [
        "Delta 13 C 결측치 채우기"
      ],
      "metadata": {
        "id": "ERHXZFj4b7WB"
      }
    },
    {
      "cell_type": "code",
      "source": [
        "models = []\n",
        "models.append(('LR',LinearRegression()))\n",
        "models.append(('LASSO',Lasso()))\n",
        "models.append(('KNN',KNeighborsRegressor()))\n",
        "models.append(('CART',DecisionTreeRegressor()))\n",
        "models.append(('EN',ElasticNet()))\n",
        "models.append(('SVM',SVR()))\n",
        "models.append(('RFR',RandomForestRegressor()))\n",
        "models.append(('XGBR',XGBRegressor(iterations=10000,verbose=False)))\n",
        "models.append(('LGBMR',LGBMRegressor()))\n",
        "models.append(('AdaR',AdaBoostRegressor()))\n",
        "models.append(('Cat',CatBoostRegressor(iterations=10000,verbose=False)))\n",
        "results =[]\n",
        "names = []\n",
        "for name, model in models:\n",
        "  kfold = KFold(n_splits=10,random_state=7,shuffle = True)\n",
        "  cv_results = cross_val_score(model,train[Delta_features].iloc[train['Delta 13 C (o/oo)'].dropna().index]\n",
        "                               ,train['Delta 13 C (o/oo)'].iloc[train['Delta 13 C (o/oo)'].dropna().index]\n",
        "                               ,cv= kfold,scoring='neg_mean_squared_error')\n",
        "  results.append(cv_results)\n",
        "  names.append(name)\n",
        "  msg = \"%s : %f (%f) \"%(name,cv_results.mean(),cv_results.std())\n",
        "  print(msg)"
      ],
      "metadata": {
        "colab": {
          "base_uri": "https://localhost:8080/"
        },
        "id": "Sja65cSCaVvY",
        "outputId": "b87f8917-469b-4593-f4c6-b9485e908263"
      },
      "execution_count": null,
      "outputs": [
        {
          "output_type": "stream",
          "name": "stdout",
          "text": [
            "LR : -0.282013 (0.152863) \n",
            "LASSO : -0.478706 (0.192187) \n",
            "KNN : -0.415174 (0.254843) \n",
            "CART : -0.518851 (0.273158) \n",
            "EN : -0.396727 (0.177711) \n",
            "SVM : -0.634220 (0.269142) \n",
            "RFR : -0.350851 (0.168368) \n",
            "[10:12:04] WARNING: /workspace/src/objective/regression_obj.cu:152: reg:linear is now deprecated in favor of reg:squarederror.\n",
            "[10:12:04] WARNING: /workspace/src/objective/regression_obj.cu:152: reg:linear is now deprecated in favor of reg:squarederror.\n",
            "[10:12:04] WARNING: /workspace/src/objective/regression_obj.cu:152: reg:linear is now deprecated in favor of reg:squarederror.\n",
            "[10:12:04] WARNING: /workspace/src/objective/regression_obj.cu:152: reg:linear is now deprecated in favor of reg:squarederror.\n",
            "[10:12:04] WARNING: /workspace/src/objective/regression_obj.cu:152: reg:linear is now deprecated in favor of reg:squarederror.\n",
            "[10:12:04] WARNING: /workspace/src/objective/regression_obj.cu:152: reg:linear is now deprecated in favor of reg:squarederror.\n",
            "[10:12:04] WARNING: /workspace/src/objective/regression_obj.cu:152: reg:linear is now deprecated in favor of reg:squarederror.\n",
            "[10:12:04] WARNING: /workspace/src/objective/regression_obj.cu:152: reg:linear is now deprecated in favor of reg:squarederror.\n",
            "[10:12:04] WARNING: /workspace/src/objective/regression_obj.cu:152: reg:linear is now deprecated in favor of reg:squarederror.\n",
            "[10:12:04] WARNING: /workspace/src/objective/regression_obj.cu:152: reg:linear is now deprecated in favor of reg:squarederror.\n",
            "XGBR : -0.363769 (0.172851) \n",
            "LGBMR : -0.306097 (0.129707) \n",
            "AdaR : -0.321917 (0.133394) \n",
            "Cat : -0.397602 (0.173610) \n"
          ]
        }
      ]
    },
    {
      "cell_type": "code",
      "source": [
        "fig = plt.figure()\n",
        "fig.suptitle('Algorithm Comparison')\n",
        "ax = fig.add_subplot(111)\n",
        "plt.boxplot(results)\n",
        "ax.set_xticklabels(names)\n",
        "plt.show()"
      ],
      "metadata": {
        "colab": {
          "base_uri": "https://localhost:8080/",
          "height": 543
        },
        "id": "pJmLyWQpaXoI",
        "outputId": "c3515ecf-cf73-4745-f790-1a92e6ecc2fd"
      },
      "execution_count": null,
      "outputs": [
        {
          "output_type": "display_data",
          "data": {
            "image/png": "[encoded data removed]",
            "text/plain": [
              "<Figure size 1080x576 with 1 Axes>"
            ]
          },
          "metadata": {}
        }
      ]
    },
    {
      "cell_type": "code",
      "source": [
        "d13_model = LinearRegression()\n",
        "d13_model.fit(train[Delta_features].iloc[train['Delta 13 C (o/oo)'].dropna().index]\n",
        "                               ,train['Delta 13 C (o/oo)'].iloc[train['Delta 13 C (o/oo)'].dropna().index])\n",
        "train['Delta 13 C (o/oo)'].iloc[np.where(train['Delta 13 C (o/oo)'].isnull()==True)] =  d13_model.predict(train[train['Delta 13 C (o/oo)'].isnull()][Delta_features])\n",
        "test['Delta 13 C (o/oo)'].iloc[np.where(test['Delta 13 C (o/oo)'].isnull()==True)] =  d13_model.predict(test[test['Delta 13 C (o/oo)'].isnull()][Delta_features])"
      ],
      "metadata": {
        "colab": {
          "base_uri": "https://localhost:8080/"
        },
        "id": "VpOHJA_5aYpY",
        "outputId": "8fca3042-aaf1-4162-fc08-69886e8b095c"
      },
      "execution_count": null,
      "outputs": [
        {
          "output_type": "stream",
          "name": "stderr",
          "text": [
            "/usr/local/lib/python3.7/dist-packages/pandas/core/indexing.py:670: SettingWithCopyWarning: \n",
            "A value is trying to be set on a copy of a slice from a DataFrame\n",
            "\n",
            "See the caveats in the documentation: https://pandas.pydata.org/pandas-docs/stable/user_guide/indexing.html#returning-a-view-versus-a-copy\n",
            "  iloc._setitem_with_indexer(indexer, value)\n",
            "/usr/local/lib/python3.7/dist-packages/pandas/core/indexing.py:670: SettingWithCopyWarning: \n",
            "A value is trying to be set on a copy of a slice from a DataFrame\n",
            "\n",
            "See the caveats in the documentation: https://pandas.pydata.org/pandas-docs/stable/user_guide/indexing.html#returning-a-view-versus-a-copy\n",
            "  iloc._setitem_with_indexer(indexer, value)\n"
          ]
        }
      ]
    },
    {
      "cell_type": "code",
      "source": [
        "for col in test.columns:\n",
        "    n_nan = test[col].isnull().sum()\n",
        "    if n_nan>0:\n",
        "      msg = '{:^20}에서 결측치 개수 : {}개'.format(col,n_nan)\n",
        "      print(msg)"
      ],
      "metadata": {
        "id": "ANSBPhwTaaQK"
      },
      "execution_count": null,
      "outputs": []
    },
    {
      "cell_type": "code",
      "source": [
        "num_folds= 10\n",
        "seed = 7\n",
        "scoring = 'neg_root_mean_squared_error'"
      ],
      "metadata": {
        "id": "vM9y9GFtabM5"
      },
      "execution_count": null,
      "outputs": []
    },
    {
      "cell_type": "code",
      "source": [
        "x = train[test.columns.tolist()]\n",
        "y =train['Body Mass (g)']"
      ],
      "metadata": {
        "id": "LoZRMMr-afM5"
      },
      "execution_count": null,
      "outputs": []
    },
    {
      "cell_type": "code",
      "source": [
        "from sklearn.model_selection import StratifiedKFold\n",
        "\n",
        "n_splits = 5\n",
        "sfk = StratifiedKFold(n_splits = n_splits)\n",
        "\n",
        "y_pred = np.zeros(len(test))\n",
        "# train데이터셋에서 건물의 비율을 동일하게하기 위해 StratifiedKFold 사용\n",
        "for n, (train_idx, validation_idx) in enumerate(sfk.split(x, y)):      \n",
        "    x_train, x_validation = train.iloc[train_idx], train.iloc[validation_idx]\n",
        "    y_train, y_validation = y.iloc[train_idx], y.iloc[validation_idx]\n",
        "    model = Lasso(alpha=0.1)\n",
        "    model.fit(x_train, y_train)\n",
        "    y_pred = model.predict(x_validation)\n",
        "    mse = mean_squared_error(y_validation, y_pred, squared = False)\n",
        "    print(\"{}번째 rmse는 {}\".format(n, mse))"
      ],
      "metadata": {
        "colab": {
          "base_uri": "https://localhost:8080/"
        },
        "id": "vmow4Rx9Ukbp",
        "outputId": "dab17aa5-2bf4-411e-b4de-f70d40e04000"
      },
      "execution_count": null,
      "outputs": [
        {
          "output_type": "stream",
          "name": "stdout",
          "text": [
            "0번째 rmse는 9.440358169983904e-05\n",
            "1번째 rmse는 0.00016856602186725197\n",
            "2번째 rmse는 0.00015862709888422367\n",
            "3번째 rmse는 0.00012359281413376413\n",
            "4번째 rmse는 0.00010854350637511879\n"
          ]
        },
        {
          "output_type": "stream",
          "name": "stderr",
          "text": [
            "/usr/local/lib/python3.7/dist-packages/sklearn/model_selection/_split.py:680: UserWarning: The least populated class in y has only 1 members, which is less than n_splits=5.\n",
            "  UserWarning,\n"
          ]
        }
      ]
    },
    {
      "cell_type": "code",
      "source": [
        "from sklearn.model_selection import StratifiedKFold\n",
        "\n",
        "n_splits = 5\n",
        "sfk = StratifiedKFold(n_splits = n_splits)\n",
        "\n",
        "y_pred = np.zeros(len(test))\n",
        "# train데이터셋에서 건물의 비율을 동일하게하기 위해 StratifiedKFold 사용\n",
        "for n, (train_idx, validation_idx) in enumerate(sfk.split(x, y)):      \n",
        "    x_train, x_validation = train.iloc[train_idx], train.iloc[validation_idx]\n",
        "    y_train, y_validation = y.iloc[train_idx], y.iloc[validation_idx]\n",
        "    model = Ridge(alpha=0.1)\n",
        "    model.fit(x_train, y_train)\n",
        "    y_pred = model.predict(x_validation)\n",
        "    mse = mean_squared_error(y_validation, y_pred, squared = False)\n",
        "    print(\"{}번째 rmse는 {}\".format(n, mse))"
      ],
      "metadata": {
        "colab": {
          "base_uri": "https://localhost:8080/"
        },
        "id": "gfoXNZIj25Zm",
        "outputId": "262be542-c124-4e42-d370-42ea446cf373"
      },
      "execution_count": null,
      "outputs": [
        {
          "output_type": "stream",
          "name": "stderr",
          "text": [
            "/usr/local/lib/python3.7/dist-packages/sklearn/model_selection/_split.py:680: UserWarning: The least populated class in y has only 1 members, which is less than n_splits=5.\n",
            "  UserWarning,\n"
          ]
        },
        {
          "output_type": "stream",
          "name": "stdout",
          "text": [
            "0번째 rmse는 3.960702253822668e-06\n",
            "1번째 rmse는 5.603593040270741e-06\n",
            "2번째 rmse는 5.211874712867823e-06\n",
            "3번째 rmse는 4.569470457668273e-06\n",
            "4번째 rmse는 4.941484696050466e-06\n"
          ]
        }
      ]
    },
    {
      "cell_type": "code",
      "source": [
        "Ridge_model = model.fit(x, y)\n",
        "predictions = Ridge_model.predict(test)"
      ],
      "metadata": {
        "id": "t2lmVkSoUk0r"
      },
      "execution_count": null,
      "outputs": []
    },
    {
      "cell_type": "code",
      "source": [
        "submission = pd.read_csv(\"sample_submission.csv\")"
      ],
      "metadata": {
        "id": "Z3krC1bJU7Y0"
      },
      "execution_count": null,
      "outputs": []
    },
    {
      "cell_type": "code",
      "source": [
        "submission"
      ],
      "metadata": {
        "colab": {
          "base_uri": "https://localhost:8080/",
          "height": 424
        },
        "id": "-bjzfIEBU8wW",
        "outputId": "b4335942-7da4-4d13-ef81-1983b57b15dd"
      },
      "execution_count": null,
      "outputs": [
        {
          "output_type": "execute_result",
          "data": {
            "text/html": [
              "\n",
              "  <div id=\"df-e299b3c1-377e-49c4-b62a-20c69dc490e0\">\n",
              "    <div class=\"colab-df-container\">\n",
              "      <div>\n",
              "<style scoped>\n",
              "    .dataframe tbody tr th:only-of-type {\n",
              "        vertical-align: middle;\n",
              "    }\n",
              "\n",
              "    .dataframe tbody tr th {\n",
              "        vertical-align: top;\n",
              "    }\n",
              "\n",
              "    .dataframe thead th {\n",
              "        text-align: right;\n",
              "    }\n",
              "</style>\n",
              "<table border=\"1\" class=\"dataframe\">\n",
              "  <thead>\n",
              "    <tr style=\"text-align: right;\">\n",
              "      <th></th>\n",
              "      <th>id</th>\n",
              "      <th>Body Mass (g)</th>\n",
              "    </tr>\n",
              "  </thead>\n",
              "  <tbody>\n",
              "    <tr>\n",
              "      <th>0</th>\n",
              "      <td>0</td>\n",
              "      <td>0</td>\n",
              "    </tr>\n",
              "    <tr>\n",
              "      <th>1</th>\n",
              "      <td>1</td>\n",
              "      <td>0</td>\n",
              "    </tr>\n",
              "    <tr>\n",
              "      <th>2</th>\n",
              "      <td>2</td>\n",
              "      <td>0</td>\n",
              "    </tr>\n",
              "    <tr>\n",
              "      <th>3</th>\n",
              "      <td>3</td>\n",
              "      <td>0</td>\n",
              "    </tr>\n",
              "    <tr>\n",
              "      <th>4</th>\n",
              "      <td>4</td>\n",
              "      <td>0</td>\n",
              "    </tr>\n",
              "    <tr>\n",
              "      <th>...</th>\n",
              "      <td>...</td>\n",
              "      <td>...</td>\n",
              "    </tr>\n",
              "    <tr>\n",
              "      <th>223</th>\n",
              "      <td>223</td>\n",
              "      <td>0</td>\n",
              "    </tr>\n",
              "    <tr>\n",
              "      <th>224</th>\n",
              "      <td>224</td>\n",
              "      <td>0</td>\n",
              "    </tr>\n",
              "    <tr>\n",
              "      <th>225</th>\n",
              "      <td>225</td>\n",
              "      <td>0</td>\n",
              "    </tr>\n",
              "    <tr>\n",
              "      <th>226</th>\n",
              "      <td>226</td>\n",
              "      <td>0</td>\n",
              "    </tr>\n",
              "    <tr>\n",
              "      <th>227</th>\n",
              "      <td>227</td>\n",
              "      <td>0</td>\n",
              "    </tr>\n",
              "  </tbody>\n",
              "</table>\n",
              "<p>228 rows × 2 columns</p>\n",
              "</div>\n",
              "      <button class=\"colab-df-convert\" onclick=\"convertToInteractive('df-e299b3c1-377e-49c4-b62a-20c69dc490e0')\"\n",
              "              title=\"Convert this dataframe to an interactive table.\"\n",
              "              style=\"display:none;\">\n",
              "        \n",
              "  <svg xmlns=\"http://www.w3.org/2000/svg\" height=\"24px\"viewBox=\"0 0 24 24\"\n",
              "       width=\"24px\">\n",
              "    <path d=\"M0 0h24v24H0V0z\" fill=\"none\"/>\n",
              "    <path d=\"M18.56 5.44l.94 2.06.94-2.06 2.06-.94-2.06-.94-.94-2.06-.94 2.06-2.06.94zm-11 1L8.5 8.5l.94-2.06 2.06-.94-2.06-.94L8.5 2.5l-.94 2.06-2.06.94zm10 10l.94 2.06.94-2.06 2.06-.94-2.06-.94-.94-2.06-.94 2.06-2.06.94z\"/><path d=\"M17.41 7.96l-1.37-1.37c-.4-.4-.92-.59-1.43-.59-.52 0-1.04.2-1.43.59L10.3 9.45l-7.72 7.72c-.78.78-.78 2.05 0 2.83L4 21.41c.39.39.9.59 1.41.59.51 0 1.02-.2 1.41-.59l7.78-7.78 2.81-2.81c.8-.78.8-2.07 0-2.86zM5.41 20L4 18.59l7.72-7.72 1.47 1.35L5.41 20z\"/>\n",
              "  </svg>\n",
              "      </button>\n",
              "      \n",
              "  <style>\n",
              "    .colab-df-container {\n",
              "      display:flex;\n",
              "      flex-wrap:wrap;\n",
              "      gap: 12px;\n",
              "    }\n",
              "\n",
              "    .colab-df-convert {\n",
              "      background-color: #E8F0FE;\n",
              "      border: none;\n",
              "      border-radius: 50%;\n",
              "      cursor: pointer;\n",
              "      display: none;\n",
              "      fill: #1967D2;\n",
              "      height: 32px;\n",
              "      padding: 0 0 0 0;\n",
              "      width: 32px;\n",
              "    }\n",
              "\n",
              "    .colab-df-convert:hover {\n",
              "      background-color: #E2EBFA;\n",
              "      box-shadow: 0px 1px 2px rgba(60, 64, 67, 0.3), 0px 1px 3px 1px rgba(60, 64, 67, 0.15);\n",
              "      fill: #174EA6;\n",
              "    }\n",
              "\n",
              "    [theme=dark] .colab-df-convert {\n",
              "      background-color: #3B4455;\n",
              "      fill: #D2E3FC;\n",
              "    }\n",
              "\n",
              "    [theme=dark] .colab-df-convert:hover {\n",
              "      background-color: #434B5C;\n",
              "      box-shadow: 0px 1px 3px 1px rgba(0, 0, 0, 0.15);\n",
              "      filter: drop-shadow(0px 1px 2px rgba(0, 0, 0, 0.3));\n",
              "      fill: #FFFFFF;\n",
              "    }\n",
              "  </style>\n",
              "\n",
              "      <script>\n",
              "        const buttonEl =\n",
              "          document.querySelector('#df-e299b3c1-377e-49c4-b62a-20c69dc490e0 button.colab-df-convert');\n",
              "        buttonEl.style.display =\n",
              "          google.colab.kernel.accessAllowed ? 'block' : 'none';\n",
              "\n",
              "        async function convertToInteractive(key) {\n",
              "          const element = document.querySelector('#df-e299b3c1-377e-49c4-b62a-20c69dc490e0');\n",
              "          const dataTable =\n",
              "            await google.colab.kernel.invokeFunction('convertToInteractive',\n",
              "                                                     [key], {});\n",
              "          if (!dataTable) return;\n",
              "\n",
              "          const docLinkHtml = 'Like what you see? Visit the ' +\n",
              "            '<a target=\"_blank\" href=https://colab.research.google.com/notebooks/data_table.ipynb>data table notebook</a>'\n",
              "            + ' to learn more about interactive tables.';\n",
              "          element.innerHTML = '';\n",
              "          dataTable['output_type'] = 'display_data';\n",
              "          await google.colab.output.renderOutput(dataTable, element);\n",
              "          const docLink = document.createElement('div');\n",
              "          docLink.innerHTML = docLinkHtml;\n",
              "          element.appendChild(docLink);\n",
              "        }\n",
              "      </script>\n",
              "    </div>\n",
              "  </div>\n",
              "  "
            ],
            "text/plain": [
              "      id  Body Mass (g)\n",
              "0      0              0\n",
              "1      1              0\n",
              "2      2              0\n",
              "3      3              0\n",
              "4      4              0\n",
              "..   ...            ...\n",
              "223  223              0\n",
              "224  224              0\n",
              "225  225              0\n",
              "226  226              0\n",
              "227  227              0\n",
              "\n",
              "[228 rows x 2 columns]"
            ]
          },
          "metadata": {},
          "execution_count": 36
        }
      ]
    },
    {
      "cell_type": "code",
      "source": [
        "submission[\"Body Mass (g)\"] = predictions "
      ],
      "metadata": {
        "id": "aZawD5VlU9OR"
      },
      "execution_count": null,
      "outputs": []
    },
    {
      "cell_type": "code",
      "source": [
        "submission"
      ],
      "metadata": {
        "colab": {
          "base_uri": "https://localhost:8080/",
          "height": 424
        },
        "id": "yv8l_lZVU-Uk",
        "outputId": "015a29d6-54ff-4be7-d9f9-a07d44f38c35"
      },
      "execution_count": null,
      "outputs": [
        {
          "output_type": "execute_result",
          "data": {
            "text/html": [
              "\n",
              "  <div id=\"df-4cae5812-3718-4c58-beb9-a9c98a46863b\">\n",
              "    <div class=\"colab-df-container\">\n",
              "      <div>\n",
              "<style scoped>\n",
              "    .dataframe tbody tr th:only-of-type {\n",
              "        vertical-align: middle;\n",
              "    }\n",
              "\n",
              "    .dataframe tbody tr th {\n",
              "        vertical-align: top;\n",
              "    }\n",
              "\n",
              "    .dataframe thead th {\n",
              "        text-align: right;\n",
              "    }\n",
              "</style>\n",
              "<table border=\"1\" class=\"dataframe\">\n",
              "  <thead>\n",
              "    <tr style=\"text-align: right;\">\n",
              "      <th></th>\n",
              "      <th>id</th>\n",
              "      <th>Body Mass (g)</th>\n",
              "    </tr>\n",
              "  </thead>\n",
              "  <tbody>\n",
              "    <tr>\n",
              "      <th>0</th>\n",
              "      <td>0</td>\n",
              "      <td>4342.73</td>\n",
              "    </tr>\n",
              "    <tr>\n",
              "      <th>1</th>\n",
              "      <td>1</td>\n",
              "      <td>5650.77</td>\n",
              "    </tr>\n",
              "    <tr>\n",
              "      <th>2</th>\n",
              "      <td>2</td>\n",
              "      <td>3603.11</td>\n",
              "    </tr>\n",
              "    <tr>\n",
              "      <th>3</th>\n",
              "      <td>3</td>\n",
              "      <td>3305.95</td>\n",
              "    </tr>\n",
              "    <tr>\n",
              "      <th>4</th>\n",
              "      <td>4</td>\n",
              "      <td>3520.55</td>\n",
              "    </tr>\n",
              "    <tr>\n",
              "      <th>...</th>\n",
              "      <td>...</td>\n",
              "      <td>...</td>\n",
              "    </tr>\n",
              "    <tr>\n",
              "      <th>223</th>\n",
              "      <td>223</td>\n",
              "      <td>4108.90</td>\n",
              "    </tr>\n",
              "    <tr>\n",
              "      <th>224</th>\n",
              "      <td>224</td>\n",
              "      <td>4737.16</td>\n",
              "    </tr>\n",
              "    <tr>\n",
              "      <th>225</th>\n",
              "      <td>225</td>\n",
              "      <td>4752.48</td>\n",
              "    </tr>\n",
              "    <tr>\n",
              "      <th>226</th>\n",
              "      <td>226</td>\n",
              "      <td>4090.71</td>\n",
              "    </tr>\n",
              "    <tr>\n",
              "      <th>227</th>\n",
              "      <td>227</td>\n",
              "      <td>4128.49</td>\n",
              "    </tr>\n",
              "  </tbody>\n",
              "</table>\n",
              "<p>228 rows × 2 columns</p>\n",
              "</div>\n",
              "      <button class=\"colab-df-convert\" onclick=\"convertToInteractive('df-4cae5812-3718-4c58-beb9-a9c98a46863b')\"\n",
              "              title=\"Convert this dataframe to an interactive table.\"\n",
              "              style=\"display:none;\">\n",
              "        \n",
              "  <svg xmlns=\"http://www.w3.org/2000/svg\" height=\"24px\"viewBox=\"0 0 24 24\"\n",
              "       width=\"24px\">\n",
              "    <path d=\"M0 0h24v24H0V0z\" fill=\"none\"/>\n",
              "    <path d=\"M18.56 5.44l.94 2.06.94-2.06 2.06-.94-2.06-.94-.94-2.06-.94 2.06-2.06.94zm-11 1L8.5 8.5l.94-2.06 2.06-.94-2.06-.94L8.5 2.5l-.94 2.06-2.06.94zm10 10l.94 2.06.94-2.06 2.06-.94-2.06-.94-.94-2.06-.94 2.06-2.06.94z\"/><path d=\"M17.41 7.96l-1.37-1.37c-.4-.4-.92-.59-1.43-.59-.52 0-1.04.2-1.43.59L10.3 9.45l-7.72 7.72c-.78.78-.78 2.05 0 2.83L4 21.41c.39.39.9.59 1.41.59.51 0 1.02-.2 1.41-.59l7.78-7.78 2.81-2.81c.8-.78.8-2.07 0-2.86zM5.41 20L4 18.59l7.72-7.72 1.47 1.35L5.41 20z\"/>\n",
              "  </svg>\n",
              "      </button>\n",
              "      \n",
              "  <style>\n",
              "    .colab-df-container {\n",
              "      display:flex;\n",
              "      flex-wrap:wrap;\n",
              "      gap: 12px;\n",
              "    }\n",
              "\n",
              "    .colab-df-convert {\n",
              "      background-color: #E8F0FE;\n",
              "      border: none;\n",
              "      border-radius: 50%;\n",
              "      cursor: pointer;\n",
              "      display: none;\n",
              "      fill: #1967D2;\n",
              "      height: 32px;\n",
              "      padding: 0 0 0 0;\n",
              "      width: 32px;\n",
              "    }\n",
              "\n",
              "    .colab-df-convert:hover {\n",
              "      background-color: #E2EBFA;\n",
              "      box-shadow: 0px 1px 2px rgba(60, 64, 67, 0.3), 0px 1px 3px 1px rgba(60, 64, 67, 0.15);\n",
              "      fill: #174EA6;\n",
              "    }\n",
              "\n",
              "    [theme=dark] .colab-df-convert {\n",
              "      background-color: #3B4455;\n",
              "      fill: #D2E3FC;\n",
              "    }\n",
              "\n",
              "    [theme=dark] .colab-df-convert:hover {\n",
              "      background-color: #434B5C;\n",
              "      box-shadow: 0px 1px 3px 1px rgba(0, 0, 0, 0.15);\n",
              "      filter: drop-shadow(0px 1px 2px rgba(0, 0, 0, 0.3));\n",
              "      fill: #FFFFFF;\n",
              "    }\n",
              "  </style>\n",
              "\n",
              "      <script>\n",
              "        const buttonEl =\n",
              "          document.querySelector('#df-4cae5812-3718-4c58-beb9-a9c98a46863b button.colab-df-convert');\n",
              "        buttonEl.style.display =\n",
              "          google.colab.kernel.accessAllowed ? 'block' : 'none';\n",
              "\n",
              "        async function convertToInteractive(key) {\n",
              "          const element = document.querySelector('#df-4cae5812-3718-4c58-beb9-a9c98a46863b');\n",
              "          const dataTable =\n",
              "            await google.colab.kernel.invokeFunction('convertToInteractive',\n",
              "                                                     [key], {});\n",
              "          if (!dataTable) return;\n",
              "\n",
              "          const docLinkHtml = 'Like what you see? Visit the ' +\n",
              "            '<a target=\"_blank\" href=https://colab.research.google.com/notebooks/data_table.ipynb>data table notebook</a>'\n",
              "            + ' to learn more about interactive tables.';\n",
              "          element.innerHTML = '';\n",
              "          dataTable['output_type'] = 'display_data';\n",
              "          await google.colab.output.renderOutput(dataTable, element);\n",
              "          const docLink = document.createElement('div');\n",
              "          docLink.innerHTML = docLinkHtml;\n",
              "          element.appendChild(docLink);\n",
              "        }\n",
              "      </script>\n",
              "    </div>\n",
              "  </div>\n",
              "  "
            ],
            "text/plain": [
              "      id  Body Mass (g)\n",
              "0      0        4342.73\n",
              "1      1        5650.77\n",
              "2      2        3603.11\n",
              "3      3        3305.95\n",
              "4      4        3520.55\n",
              "..   ...            ...\n",
              "223  223        4108.90\n",
              "224  224        4737.16\n",
              "225  225        4752.48\n",
              "226  226        4090.71\n",
              "227  227        4128.49\n",
              "\n",
              "[228 rows x 2 columns]"
            ]
          },
          "metadata": {},
          "execution_count": 38
        }
      ]
    },
    {
      "cell_type": "code",
      "source": [
        "submission.to_csv('baseline.csv', index = False)"
      ],
      "metadata": {
        "id": "k-D5KUnEU_pQ"
      },
      "execution_count": null,
      "outputs": []
    },
    {
      "cell_type": "code",
      "source": [
        "X_train, X_valid, y_train, y_valid = train_test_split(train[test.columns.tolist()],train['Body Mass (g)']\n",
        "                                                      ,test_size=0.2,random_state=seed)"
      ],
      "metadata": {
        "id": "nLnkFfQ9agZo"
      },
      "execution_count": null,
      "outputs": []
    },
    {
      "cell_type": "code",
      "source": [
        "models = []\n",
        "models.append(('LR',LinearRegression()))\n",
        "models.append(('LASSO',Lasso()))\n",
        "models.append(('KNN',KNeighborsRegressor()))\n",
        "models.append(('CART',DecisionTreeRegressor()))\n",
        "models.append(('EN',ElasticNet()))\n",
        "models.append(('SVM',SVR()))\n",
        "models.append(('RFR',RandomForestRegressor()))\n",
        "models.append(('XGBR',XGBRegressor()))\n",
        "models.append(('LGBMR',LGBMRegressor()))\n",
        "models.append(('AdaR',AdaBoostRegressor()))\n",
        "models.append(('Cat',CatBoostRegressor(verbose=False)))\n",
        "models.append(('Xtree',ExtraTreesRegressor()))\n",
        "\n",
        "results =[]\n",
        "names = []\n",
        "for name, model in models:\n",
        "  kfold = KFold(n_splits=10,random_state=7,shuffle = True)\n",
        "  cv_results = cross_val_score(model,X_train,y_train\n",
        "                               ,cv= kfold,scoring=scoring)\n",
        "  results.append(cv_results)\n",
        "  names.append(name)\n",
        "  msg = \"%s : %f (%f) \"%(name,cv_results.mean(),cv_results.std())\n",
        "  print(msg)"
      ],
      "metadata": {
        "colab": {
          "base_uri": "https://localhost:8080/"
        },
        "id": "yUC2XXNBah2p",
        "outputId": "cfe57068-3916-436c-b59e-1bfa1ce5aa09"
      },
      "execution_count": null,
      "outputs": [
        {
          "output_type": "stream",
          "name": "stdout",
          "text": [
            "LR : -330.617595 (56.888526) \n",
            "LASSO : -329.243212 (55.682610) \n",
            "KNN : -388.766440 (54.708975) \n",
            "CART : -409.604242 (74.199833) \n",
            "EN : -376.023327 (58.073462) \n",
            "SVM : -775.629941 (193.158682) \n",
            "RFR : -333.489714 (80.706865) \n",
            "[05:37:03] WARNING: /workspace/src/objective/regression_obj.cu:152: reg:linear is now deprecated in favor of reg:squarederror.\n",
            "[05:37:03] WARNING: /workspace/src/objective/regression_obj.cu:152: reg:linear is now deprecated in favor of reg:squarederror.\n",
            "[05:37:03] WARNING: /workspace/src/objective/regression_obj.cu:152: reg:linear is now deprecated in favor of reg:squarederror.\n",
            "[05:37:03] WARNING: /workspace/src/objective/regression_obj.cu:152: reg:linear is now deprecated in favor of reg:squarederror.\n",
            "[05:37:03] WARNING: /workspace/src/objective/regression_obj.cu:152: reg:linear is now deprecated in favor of reg:squarederror.\n",
            "[05:37:03] WARNING: /workspace/src/objective/regression_obj.cu:152: reg:linear is now deprecated in favor of reg:squarederror.\n",
            "[05:37:03] WARNING: /workspace/src/objective/regression_obj.cu:152: reg:linear is now deprecated in favor of reg:squarederror.\n",
            "[05:37:03] WARNING: /workspace/src/objective/regression_obj.cu:152: reg:linear is now deprecated in favor of reg:squarederror.\n",
            "[05:37:03] WARNING: /workspace/src/objective/regression_obj.cu:152: reg:linear is now deprecated in favor of reg:squarederror.\n",
            "[05:37:03] WARNING: /workspace/src/objective/regression_obj.cu:152: reg:linear is now deprecated in favor of reg:squarederror.\n",
            "XGBR : -359.772703 (71.557328) \n",
            "LGBMR : -342.158989 (56.373552) \n",
            "AdaR : -342.603386 (66.004288) \n",
            "Cat : -320.096201 (73.132513) \n",
            "Xtree : -322.203351 (71.174576) \n"
          ]
        }
      ]
    },
    {
      "cell_type": "code",
      "source": [
        "fig = plt.figure()\n",
        "fig.suptitle('Algorithm Comparison')\n",
        "ax = fig.add_subplot(111)\n",
        "plt.boxplot(results)\n",
        "ax.set_xticklabels(names)\n",
        "plt.show()"
      ],
      "metadata": {
        "colab": {
          "base_uri": "https://localhost:8080/",
          "height": 543
        },
        "id": "BHHWoZWIajL5",
        "outputId": "c561604a-f98a-49c1-b21b-5fda70db5c3f"
      },
      "execution_count": null,
      "outputs": [
        {
          "output_type": "display_data",
          "data": {
            "image/png": "[encoded data removed]",
            "text/plain": [
              "<Figure size 1080x576 with 1 Axes>"
            ]
          },
          "metadata": {}
        }
      ]
    },
    {
      "cell_type": "code",
      "source": [
        "pipelines = []\n",
        "pipelines.append(('ScaledLR',Pipeline([('Scaler',preprocessing.StandardScaler()),('LR',LinearRegression())])))\n",
        "pipelines.append(('ScaledLASSO',Pipeline([('Scaler',preprocessing.StandardScaler()),('LASSO',Lasso())])))\n",
        "pipelines.append(('ScaledKNN',Pipeline([('Scaler',preprocessing.StandardScaler()),('KNN',KNeighborsRegressor())])))\n",
        "pipelines.append(('ScaledCART',Pipeline([('Scaler',preprocessing.StandardScaler()),('CART',DecisionTreeRegressor())])))\n",
        "pipelines.append(('ScaledEN',Pipeline([('Scaler',preprocessing.StandardScaler()),('EN',ElasticNet())])))\n",
        "pipelines.append(('ScaledSVM',Pipeline([('Scaler',preprocessing.StandardScaler()),('SVM',SVR())])))\n",
        "pipelines.append(('ScaledRFR',Pipeline([('Scaler',preprocessing.StandardScaler()),('RFR',RandomForestRegressor())])))\n",
        "pipelines.append(('ScaledXGBR',Pipeline([('Scaler',preprocessing.StandardScaler()),('XGBR',XGBRegressor())])))\n",
        "pipelines.append(('ScaledLGBMR',Pipeline([('Scaler',preprocessing.StandardScaler()),('LGBMR',LGBMRegressor())])))\n",
        "pipelines.append(('ScaledAdaR',Pipeline([('Scaler',preprocessing.StandardScaler()),('AdaR',AdaBoostRegressor())])))\n",
        "pipelines.append(('ScaledCat',Pipeline([('Scaler',preprocessing.StandardScaler()),('Cat',CatBoostRegressor(verbose=False))])))\n",
        "pipelines.append(('ScaledXtree',Pipeline([('Scaler',preprocessing.StandardScaler()),('Xtree',ExtraTreesRegressor())])))\n",
        "\n",
        "results_scaled =[]\n",
        "names_scaled = []\n",
        "for name, model in pipelines:\n",
        "  kfold = KFold(n_splits=10,random_state=7,shuffle = True)\n",
        "  cv_results = cross_val_score(model,X_train,y_train\n",
        "                               ,cv= kfold,scoring=scoring)\n",
        "  results_scaled.append(cv_results)\n",
        "  names_scaled.append(name)\n",
        "  msg = \"%s : %f (%f) \"%(name,cv_results.mean(),cv_results.std())\n",
        "  print(msg)"
      ],
      "metadata": {
        "colab": {
          "base_uri": "https://localhost:8080/"
        },
        "id": "CSjK1AcXakLI",
        "outputId": "f63661bb-cc4b-42f6-a8d1-03973dc19635"
      },
      "execution_count": null,
      "outputs": [
        {
          "output_type": "stream",
          "name": "stdout",
          "text": [
            "ScaledLR : -330.617595 (56.888526) \n",
            "ScaledLASSO : -330.330902 (55.693388) \n",
            "ScaledKNN : -344.411139 (69.674407) \n",
            "ScaledCART : -423.022454 (74.348487) \n",
            "ScaledEN : -343.472443 (61.529554) \n",
            "ScaledSVM : -767.470621 (192.284946) \n",
            "ScaledRFR : -344.866564 (74.249856) \n",
            "[05:37:25] WARNING: /workspace/src/objective/regression_obj.cu:152: reg:linear is now deprecated in favor of reg:squarederror.\n",
            "[05:37:25] WARNING: /workspace/src/objective/regression_obj.cu:152: reg:linear is now deprecated in favor of reg:squarederror.\n",
            "[05:37:25] WARNING: /workspace/src/objective/regression_obj.cu:152: reg:linear is now deprecated in favor of reg:squarederror.\n",
            "[05:37:25] WARNING: /workspace/src/objective/regression_obj.cu:152: reg:linear is now deprecated in favor of reg:squarederror.\n",
            "[05:37:26] WARNING: /workspace/src/objective/regression_obj.cu:152: reg:linear is now deprecated in favor of reg:squarederror.\n",
            "[05:37:26] WARNING: /workspace/src/objective/regression_obj.cu:152: reg:linear is now deprecated in favor of reg:squarederror.\n",
            "[05:37:26] WARNING: /workspace/src/objective/regression_obj.cu:152: reg:linear is now deprecated in favor of reg:squarederror.\n",
            "[05:37:26] WARNING: /workspace/src/objective/regression_obj.cu:152: reg:linear is now deprecated in favor of reg:squarederror.\n",
            "[05:37:26] WARNING: /workspace/src/objective/regression_obj.cu:152: reg:linear is now deprecated in favor of reg:squarederror.\n",
            "[05:37:26] WARNING: /workspace/src/objective/regression_obj.cu:152: reg:linear is now deprecated in favor of reg:squarederror.\n",
            "ScaledXGBR : -359.772703 (71.557328) \n",
            "ScaledLGBMR : -346.187687 (58.877518) \n",
            "ScaledAdaR : -353.085536 (77.486731) \n",
            "ScaledCat : -321.785776 (71.139527) \n",
            "ScaledXtree : -324.220890 (68.794999) \n"
          ]
        }
      ]
    },
    {
      "cell_type": "code",
      "source": [
        "fig = plt.figure()\n",
        "fig.suptitle('Algorithm Comparison')\n",
        "ax = fig.add_subplot(111)\n",
        "plt.boxplot(results_scaled)\n",
        "ax.set_xticklabels(names_scaled)\n",
        "plt.show()"
      ],
      "metadata": {
        "colab": {
          "base_uri": "https://localhost:8080/",
          "height": 543
        },
        "id": "6bPIcJXmalpI",
        "outputId": "ce0b945c-e0ec-40d1-f7f4-af6c033ba360"
      },
      "execution_count": null,
      "outputs": [
        {
          "output_type": "display_data",
          "data": {
            "image/png": "[encoded data removed]",
            "text/plain": [
              "<Figure size 1080x576 with 1 Axes>"
            ]
          },
          "metadata": {}
        }
      ]
    },
    {
      "cell_type": "code",
      "source": [
        "pipelines = []\n",
        "pipelines.append(('NormLR',Pipeline([('Scaler',preprocessing.Normalizer()),('LR',LinearRegression())])))\n",
        "pipelines.append(('NormLASSO',Pipeline([('Scaler',preprocessing.Normalizer()),('LASSO',Lasso())])))\n",
        "pipelines.append(('NormKNN',Pipeline([('Scaler',preprocessing.Normalizer()),('KNN',KNeighborsRegressor())])))\n",
        "pipelines.append(('NormCART',Pipeline([('Scaler',preprocessing.Normalizer()),('CART',DecisionTreeRegressor())])))\n",
        "pipelines.append(('NormEN',Pipeline([('Scaler',preprocessing.Normalizer()),('EN',ElasticNet())])))\n",
        "pipelines.append(('NormSVM',Pipeline([('Scaler',preprocessing.Normalizer()),('SVM',SVR())])))\n",
        "pipelines.append(('NormRFR',Pipeline([('Scaler',preprocessing.Normalizer()),('RFR',RandomForestRegressor())])))\n",
        "pipelines.append(('NormXGBR',Pipeline([('Scaler',preprocessing.Normalizer()),('XGBR',XGBRegressor())])))\n",
        "pipelines.append(('NormLGBMR',Pipeline([('Scaler',preprocessing.Normalizer()),('LGBMR',LGBMRegressor())])))\n",
        "pipelines.append(('NormAdaR',Pipeline([('Scaler',preprocessing.Normalizer()),('AdaR',AdaBoostRegressor())])))\n",
        "pipelines.append(('NormCat',Pipeline([('Scaler',preprocessing.Normalizer()),('Cat',CatBoostRegressor(verbose=False))])))\n",
        "pipelines.append(('NormXtree',Pipeline([('Scaler',preprocessing.Normalizer()),('Xtree',ExtraTreesRegressor())])))\n",
        "\n",
        "results_norm =[]\n",
        "names_norm = []\n",
        "for name, model in pipelines:\n",
        "  kfold = KFold(n_splits=10,random_state=7,shuffle = True)\n",
        "  cv_results = cross_val_score(model,X_train,y_train\n",
        "                               ,cv= kfold,scoring=scoring)\n",
        "  results_norm.append(cv_results)\n",
        "  names_norm.append(name)\n",
        "  msg = \"%s : %f (%f) \"%(name,cv_results.mean(),cv_results.std())\n",
        "  print(msg)"
      ],
      "metadata": {
        "colab": {
          "base_uri": "https://localhost:8080/"
        },
        "id": "dMag44-xamqY",
        "outputId": "044f2f64-4ceb-4736-ce22-bb0324e53e74"
      },
      "execution_count": null,
      "outputs": [
        {
          "output_type": "stream",
          "name": "stdout",
          "text": [
            "NormLR : -335.964391 (53.033894) \n",
            "NormLASSO : -535.592621 (76.550916) \n",
            "NormKNN : -384.185588 (43.164935) \n",
            "NormCART : -417.267178 (95.829229) \n",
            "NormEN : -771.844102 (171.084730) \n",
            "NormSVM : -776.125074 (193.274443) \n",
            "NormRFR : -340.149028 (87.987489) \n",
            "[05:37:48] WARNING: /workspace/src/objective/regression_obj.cu:152: reg:linear is now deprecated in favor of reg:squarederror.\n",
            "[05:37:48] WARNING: /workspace/src/objective/regression_obj.cu:152: reg:linear is now deprecated in favor of reg:squarederror.\n",
            "[05:37:48] WARNING: /workspace/src/objective/regression_obj.cu:152: reg:linear is now deprecated in favor of reg:squarederror.\n",
            "[05:37:48] WARNING: /workspace/src/objective/regression_obj.cu:152: reg:linear is now deprecated in favor of reg:squarederror.\n",
            "[05:37:48] WARNING: /workspace/src/objective/regression_obj.cu:152: reg:linear is now deprecated in favor of reg:squarederror.\n",
            "[05:37:48] WARNING: /workspace/src/objective/regression_obj.cu:152: reg:linear is now deprecated in favor of reg:squarederror.\n",
            "[05:37:48] WARNING: /workspace/src/objective/regression_obj.cu:152: reg:linear is now deprecated in favor of reg:squarederror.\n",
            "[05:37:48] WARNING: /workspace/src/objective/regression_obj.cu:152: reg:linear is now deprecated in favor of reg:squarederror.\n",
            "[05:37:48] WARNING: /workspace/src/objective/regression_obj.cu:152: reg:linear is now deprecated in favor of reg:squarederror.\n",
            "[05:37:48] WARNING: /workspace/src/objective/regression_obj.cu:152: reg:linear is now deprecated in favor of reg:squarederror.\n",
            "NormXGBR : -344.959444 (71.185828) \n",
            "NormLGBMR : -340.332315 (83.681147) \n",
            "NormAdaR : -339.096902 (94.015376) \n",
            "NormCat : -351.503690 (67.915767) \n",
            "NormXtree : -338.889223 (51.746182) \n"
          ]
        }
      ]
    },
    {
      "cell_type": "code",
      "source": [
        "fig = plt.figure()\n",
        "fig.suptitle('Algorithm Comparison')\n",
        "ax = fig.add_subplot(111)\n",
        "plt.boxplot(results_norm)\n",
        "ax.set_xticklabels(names_norm)\n",
        "plt.show()"
      ],
      "metadata": {
        "colab": {
          "base_uri": "https://localhost:8080/",
          "height": 543
        },
        "id": "52HgGRFUaoYY",
        "outputId": "55d6bc77-f699-405d-ee6f-dd1498a82a2c"
      },
      "execution_count": null,
      "outputs": [
        {
          "output_type": "display_data",
          "data": {
            "image/png": "[encoded data removed]",
            "text/plain": [
              "<Figure size 1080x576 with 1 Axes>"
            ]
          },
          "metadata": {}
        }
      ]
    },
    {
      "cell_type": "code",
      "source": [
        "compare_algo_mean = pd.DataFrame([ i.mean() for i in results],columns=['Base'],index=names)\n",
        "compare_algo_mean['Stand'] = [ i.mean() for i in results_scaled]\n",
        "compare_algo_mean['Norm'] = [ i.mean() for i in results_norm]"
      ],
      "metadata": {
        "id": "OzwCuVTtaplY"
      },
      "execution_count": null,
      "outputs": []
    },
    {
      "cell_type": "code",
      "source": [
        "plt.figure(figsize=(16,8))\n",
        "ax =compare_algo_mean.plot()\n",
        "plt.xticks(range(len(compare_algo_mean.index)), compare_algo_mean.index)\n",
        "plt.show()"
      ],
      "metadata": {
        "colab": {
          "base_uri": "https://localhost:8080/",
          "height": 505
        },
        "id": "7plrD67faqtI",
        "outputId": "8a95b590-6d33-4216-f961-00b46c5e398f"
      },
      "execution_count": null,
      "outputs": [
        {
          "output_type": "display_data",
          "data": {
            "text/plain": [
              "<Figure size 1152x576 with 0 Axes>"
            ]
          },
          "metadata": {}
        },
        {
          "output_type": "display_data",
          "data": {
            "image/png": "[encoded data removed]",
            "text/plain": [
              "<Figure size 1080x576 with 1 Axes>"
            ]
          },
          "metadata": {}
        }
      ]
    },
    {
      "cell_type": "code",
      "source": [
        "compare_algo_mid = pd.DataFrame([ np.median(i) for i in results],columns=['Base'],index=names)\n",
        "compare_algo_mid['Stand'] = [ np.median(i)for i in results_scaled]\n",
        "compare_algo_mid['Norm'] = [ np.median(i) for i in results_norm]"
      ],
      "metadata": {
        "id": "SWqib3tdarzY"
      },
      "execution_count": null,
      "outputs": []
    },
    {
      "cell_type": "code",
      "source": [
        "plt.figure(figsize=(16,8))\n",
        "ax =compare_algo_mid.plot()\n",
        "plt.xticks(range(len(compare_algo_mid.index)), compare_algo_mid.index)\n",
        "plt.show()"
      ],
      "metadata": {
        "colab": {
          "base_uri": "https://localhost:8080/",
          "height": 505
        },
        "id": "lHESFR3SavII",
        "outputId": "2a4db983-7512-45fa-c1bd-52f0228da872"
      },
      "execution_count": null,
      "outputs": [
        {
          "output_type": "display_data",
          "data": {
            "text/plain": [
              "<Figure size 1152x576 with 0 Axes>"
            ]
          },
          "metadata": {}
        },
        {
          "output_type": "display_data",
          "data": {
            "image/png": "[encoded data removed]",
            "text/plain": [
              "<Figure size 1080x576 with 1 Axes>"
            ]
          },
          "metadata": {}
        }
      ]
    },
    {
      "cell_type": "code",
      "source": [
        "scaler = preprocessing.StandardScaler().fit(X_all)\n",
        "scaled_X = scaler.transform(X_all)\n",
        "params = { 'n_estimators' : [10, 50,100],\n",
        "           'max_depth' : [6, 12,18,24],\n",
        "           'min_samples_leaf' : [1, 6, 12, 18],\n",
        "           'min_samples_split' : [2, 8, 16, 20]\n",
        "            }\n",
        "model = RandomForestRegressor()\n",
        "kfold = KFold(n_splits= num_folds,random_state = seed,shuffle = True)\n",
        "grid = GridSearchCV(estimator= model, param_grid = params,scoring= 'neg_root_mean_squared_error',cv=kfold )\n",
        "grid_result = grid.fit(scaled_X,y_all)"
      ],
      "metadata": {
        "id": "HMfUDePFav44"
      },
      "execution_count": null,
      "outputs": []
    },
    {
      "cell_type": "code",
      "source": [
        "print(\"Best : %f using %s \"%(grid_result.best_score_,grid_result.best_params_))"
      ],
      "metadata": {
        "colab": {
          "base_uri": "https://localhost:8080/"
        },
        "id": "IFSZ53XmayWI",
        "outputId": "5d8ecd8c-6280-4ac4-9b91-722a9daf083e"
      },
      "execution_count": null,
      "outputs": [
        {
          "output_type": "stream",
          "name": "stdout",
          "text": [
            "Best : -327.891537 using {'max_depth': 18, 'min_samples_leaf': 1, 'min_samples_split': 20, 'n_estimators': 50} \n"
          ]
        }
      ]
    },
    {
      "cell_type": "code",
      "source": [
        "params = { 'n_estimators' : [10, 50,100],\n",
        "           'max_depth' : [6,12,18,24],\n",
        "           'min_samples_leaf' : [1, 6, 12, 18],\n",
        "           'min_samples_split' : [2,4,8, 16]\n",
        "            }\n",
        "model =ExtraTreesRegressor()\n",
        "kfold = KFold(n_splits= num_folds,random_state = seed,shuffle = True)\n",
        "grid = GridSearchCV(estimator= model, param_grid = params,scoring= 'neg_root_mean_squared_error',cv=kfold )\n",
        "grid_result = grid.fit(X_all,y_all)"
      ],
      "metadata": {
        "id": "1_-DML4TazjI"
      },
      "execution_count": null,
      "outputs": []
    },
    {
      "cell_type": "code",
      "source": [
        "print(\"Best : %f using %s \"%(grid_result.best_score_,grid_result.best_params_))"
      ],
      "metadata": {
        "colab": {
          "base_uri": "https://localhost:8080/"
        },
        "id": "y9NiYt9Xa0gY",
        "outputId": "bab4246e-c241-4c11-ceaf-7911e8dbb2d9"
      },
      "execution_count": null,
      "outputs": [
        {
          "output_type": "stream",
          "name": "stdout",
          "text": [
            "Best : -311.260586 using {'max_depth': 18, 'min_samples_leaf': 1, 'min_samples_split': 8, 'n_estimators': 10} \n"
          ]
        }
      ]
    },
    {
      "cell_type": "markdown",
      "source": [
        "# 앙상블"
      ],
      "metadata": {
        "id": "Yw5KKSkza1Zo"
      }
    },
    {
      "cell_type": "code",
      "source": [
        "from sklearn.metrics import mean_squared_error\n",
        "import math "
      ],
      "metadata": {
        "id": "o1AbYMFLa2_J"
      },
      "execution_count": null,
      "outputs": []
    },
    {
      "cell_type": "code",
      "source": [
        "errors = []\n",
        "pred_valid=[]\n",
        "pred_test = []"
      ],
      "metadata": {
        "id": "S-Fn1Xdca32Y"
      },
      "execution_count": null,
      "outputs": []
    },
    {
      "cell_type": "code",
      "source": [
        "scaler = preprocessing.StandardScaler().fit(X_train)\n",
        "scaled_X_train = scaler.transform(X_train)\n",
        "scaled_X_valid = scaler.transform(X_valid)\n",
        "scaled_X_test = scaler.transform(test)"
      ],
      "metadata": {
        "id": "Gy7bLUn7a4ko"
      },
      "execution_count": null,
      "outputs": []
    },
    {
      "cell_type": "markdown",
      "source": [
        "Lasso"
      ],
      "metadata": {
        "id": "KohtyKvubFwR"
      }
    },
    {
      "cell_type": "code",
      "source": [
        "lasso = Lasso()\n",
        "lasso.fit(X_train,y_train)\n",
        "lasso_valid = lasso.predict(X_valid)\n",
        "rmse = math.sqrt(mean_squared_error(y_valid, lasso_valid))\n",
        "errors.append(('Lasso',rmse))\n",
        "pred_valid.append(('Lasso',lasso_valid))\n",
        "lasso_test = lasso.predict(test)\n",
        "pred_test.append(('Lasso',lasso_test))"
      ],
      "metadata": {
        "id": "a_Rc3mgea6CI"
      },
      "execution_count": null,
      "outputs": []
    },
    {
      "cell_type": "markdown",
      "source": [
        "Scaled LR"
      ],
      "metadata": {
        "id": "CPqFsSchbDyZ"
      }
    },
    {
      "cell_type": "code",
      "source": [
        "LR =LinearRegression()\n",
        "LR.fit(scaled_X_train,y_train)\n",
        "lr_valid = LR.predict(scaled_X_valid)\n",
        "rmse = math.sqrt(mean_squared_error(y_valid, lr_valid))\n",
        "errors.append(('LR',rmse))\n",
        "pred_valid.append(('LR',lr_valid))\n",
        "lr_test = LR.predict(scaled_X_test)\n",
        "pred_test.append(('LR',lr_test))"
      ],
      "metadata": {
        "id": "SsE_WEiga65J"
      },
      "execution_count": null,
      "outputs": []
    },
    {
      "cell_type": "markdown",
      "source": [
        "Scaled RF"
      ],
      "metadata": {
        "id": "N8VdqZyfbBHI"
      }
    },
    {
      "cell_type": "code",
      "source": [
        "RF =RandomForestRegressor(max_depth= 24, min_samples_leaf= 12, min_samples_split= 16, n_estimators= 10)\n",
        "RF.fit(scaled_X_train,y_train)\n",
        "rf_valid = RF.predict(scaled_X_valid)\n",
        "rmse = math.sqrt(mean_squared_error(y_valid, rf_valid))\n",
        "errors.append(('RF',rmse))\n",
        "pred_valid.append(('RF',rf_valid))\n",
        "rf_test = RF.predict(scaled_X_test)\n",
        "pred_test.append(('RF',rf_test))"
      ],
      "metadata": {
        "id": "u8KaPQYsbNW4"
      },
      "execution_count": null,
      "outputs": []
    },
    {
      "cell_type": "markdown",
      "source": [
        "Extra Tree"
      ],
      "metadata": {
        "id": "zwlUlUuYbNj4"
      }
    },
    {
      "cell_type": "code",
      "source": [
        "ET = ExtraTreesRegressor(max_depth=24, min_samples_leaf= 1, min_samples_split= 8, n_estimators= 10)\n",
        "ET.fit(X_train,y_train)\n",
        "et_valid = ET.predict(X_valid)\n",
        "rmse = math.sqrt(mean_squared_error(y_valid, et_valid))\n",
        "errors.append(('ET',rmse))\n",
        "pred_valid.append(('ET',et_valid))\n",
        "et_test = ET.predict(test)\n",
        "pred_test.append(('ET',et_test))"
      ],
      "metadata": {
        "id": "YY9qI-aebPto"
      },
      "execution_count": null,
      "outputs": []
    },
    {
      "cell_type": "markdown",
      "source": [
        "CatBoost"
      ],
      "metadata": {
        "id": "4TCl0-jlbQ7Y"
      }
    },
    {
      "cell_type": "code",
      "source": [
        "CAT = CatBoostRegressor(iterations=10000,random_state=7 \n",
        "           ,eval_metric=\"RMSE\")\n",
        "CAT.fit(X_train,y_train, eval_set=[(X_valid,y_valid)],early_stopping_rounds=300\n",
        "        ,verbose=1000 )\n",
        "cat_valid = CAT.predict(X_valid)\n",
        "rmse = math.sqrt(mean_squared_error(y_valid, cat_valid))\n",
        "errors.append(('CAT',rmse))\n",
        "pred_valid.append(('CAT',cat_valid))\n",
        "cat_test = CAT.predict(test)\n",
        "pred_test.append(('CAT',cat_test))"
      ],
      "metadata": {
        "colab": {
          "base_uri": "https://localhost:8080/"
        },
        "id": "rCm3PJTdbSoI",
        "outputId": "b77b5928-a172-4eb0-b494-0b6482dc52dc"
      },
      "execution_count": null,
      "outputs": [
        {
          "output_type": "stream",
          "name": "stdout",
          "text": [
            "Learning rate set to 0.00858\n",
            "0:\tlearn: 773.3176968\ttest: 779.5652857\tbest: 779.5652857 (0)\ttotal: 1.45ms\tremaining: 14.5s\n",
            "Stopped by overfitting detector  (300 iterations wait)\n",
            "\n",
            "bestTest = 321.2889646\n",
            "bestIteration = 565\n",
            "\n",
            "Shrink model to first 566 iterations.\n"
          ]
        }
      ]
    },
    {
      "cell_type": "code",
      "source": [
        "for name, error in errors:\n",
        "  print(\"{} : {}\".format(name, error))\n"
      ],
      "metadata": {
        "id": "zgNS-jfkbTlo",
        "colab": {
          "base_uri": "https://localhost:8080/"
        },
        "outputId": "85ad29ec-f47e-4daa-f1e7-65db62832aaa"
      },
      "execution_count": null,
      "outputs": [
        {
          "output_type": "stream",
          "name": "stdout",
          "text": [
            "Lasso : 289.50474363460586\n",
            "LR : 293.72789413836983\n",
            "RF : 316.76667246382243\n",
            "ET : 310.7882157481836\n",
            "CAT : 321.2889646178319\n"
          ]
        }
      ]
    },
    {
      "cell_type": "code",
      "source": [
        "val= np.zeros(X_valid.shape[0])\n",
        "for name, pred in pred_valid:\n",
        "  val+= (0.2* pred)\n",
        "math.sqrt(mean_squared_error(y_valid, val))"
      ],
      "metadata": {
        "colab": {
          "base_uri": "https://localhost:8080/"
        },
        "id": "ev-lB1v7bboI",
        "outputId": "de3b287a-fd9c-4a7c-c505-72ab90661dc6"
      },
      "execution_count": null,
      "outputs": [
        {
          "output_type": "execute_result",
          "data": {
            "text/plain": [
              "286.5882886506189"
            ]
          },
          "metadata": {},
          "execution_count": 55
        }
      ]
    },
    {
      "cell_type": "code",
      "source": [
        "val= np.zeros(X_valid.shape[0])\n",
        "for name, pred in pred_valid:\n",
        "  if name == 'Lasso' or name=='LR' or name == 'ET' or name=='CAT':\n",
        "    val+= (0.25* pred)\n",
        "math.sqrt(mean_squared_error(y_valid, val))"
      ],
      "metadata": {
        "colab": {
          "base_uri": "https://localhost:8080/"
        },
        "id": "WJXTlvlbbcgY",
        "outputId": "29b7dd31-037b-472d-e52a-56e6ec92c5a2"
      },
      "execution_count": null,
      "outputs": [
        {
          "output_type": "execute_result",
          "data": {
            "text/plain": [
              "284.872295802673"
            ]
          },
          "metadata": {},
          "execution_count": 56
        }
      ]
    },
    {
      "cell_type": "code",
      "source": [
        "test_val= np.zeros(test.shape[0])\n",
        "for name, pred in pred_test:\n",
        "  if name == 'Lasso' or name=='LR' or name == 'ET' or name=='CAT':\n",
        "    test_val+= (0.25* pred)"
      ],
      "metadata": {
        "id": "g5u2JJf5bdTZ"
      },
      "execution_count": null,
      "outputs": []
    },
    {
      "cell_type": "code",
      "source": [
        "submission = pd.read_csv('sample_submission.csv')\n",
        "submission['Body Mass (g)'] = test_val\n",
        "submission.to_csv(\"baseline.csv\", index=False)"
      ],
      "metadata": {
        "id": "yeacdiZUbedo"
      },
      "execution_count": null,
      "outputs": []
    },
    {
      "cell_type": "code",
      "source": [
        ""
      ],
      "metadata": {
        "id": "Ho5U88Q_biF4"
      },
      "execution_count": null,
      "outputs": []
    }
  ]
}